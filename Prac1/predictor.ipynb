{
  "nbformat": 4,
  "nbformat_minor": 0,
  "metadata": {
    "colab": {
      "provenance": [],
      "collapsed_sections": []
    },
    "kernelspec": {
      "name": "python3",
      "display_name": "Python 3"
    },
    "language_info": {
      "name": "python"
    }
  },
  "cells": [
    {
      "cell_type": "markdown",
      "source": [
        "Primero importamos pandas y cargamos nuestro dataset desde una ubicación que pueda leerse con read_csv:"
      ],
      "metadata": {
        "id": "Ovw-w06biSRs"
      }
    },
    {
      "cell_type": "code",
      "execution_count": 4,
      "metadata": {
        "id": "eZ1s7cMJiM-V"
      },
      "outputs": [],
      "source": [
        "import pandas as pd\n",
        "\n",
        "laptops_dataframe = pd.read_csv(\"https://raw.githubusercontent.com/rubengr16/MachineLearning/main/Prac1/train.csv\", sep=\",\")"
      ]
    },
    {
      "cell_type": "markdown",
      "source": [
        "Manipulamos o convertimos aquellas columnas para unificar o tenerlas en representación numérica:"
      ],
      "metadata": {
        "id": "aEh3IpPrLyyq"
      }
    },
    {
      "cell_type": "code",
      "source": [
        "# Obtener sólo la resolución en píxeles\n",
        "for i in range(len(laptops_dataframe)):\n",
        "  screen_split = laptops_dataframe.loc[i,'ScreenResolution'].split()\n",
        "  laptops_dataframe.loc[i,'ScreenResolution'] = screen_split[-1:]\n",
        "\n",
        "# Obtener los GHz del procesador\n",
        "for i in range(len(laptops_dataframe)):\n",
        "  cpu_split = laptops_dataframe.loc[i,'Cpu'].split()\n",
        "  cpu_str = str(cpu_split[-1:])\n",
        "  laptops_dataframe.loc[i,'Cpu'] = cpu_str[2:-5]\n",
        "\n",
        "# Eliminar el GB\n",
        "for i in range(len(laptops_dataframe)):\n",
        "  laptops_dataframe.loc[i,'Ram'] = float(laptops_dataframe.loc[i,'Ram'][:-2])\n",
        "\n",
        "# Eliminar el kg\n",
        "for i in range(len(laptops_dataframe)):\n",
        "  laptops_dataframe.loc[i,'Weight'] = float(laptops_dataframe.loc[i,'Weight'][:-2])"
      ],
      "metadata": {
        "id": "8OQtCqRrLwrZ"
      },
      "execution_count": 5,
      "outputs": []
    },
    {
      "cell_type": "markdown",
      "source": [
        "Aplicamos el preprocesado de datos para transformar toda la información obtenida y convertida en el paso anterior"
      ],
      "metadata": {
        "id": "dHaRJSK4Btu6"
      }
    },
    {
      "cell_type": "code",
      "source": [
        "import numpy as np\n",
        "import sklearn.compose\n",
        "\n",
        "np_laptops = np.array(laptops_dataframe)\n",
        "column_transformer = sklearn.compose.ColumnTransformer(transformers=[\n",
        "    (\"id\", \"drop\", [0]),\n",
        "    (\"Company\", sklearn.preprocessing.OrdinalEncoder(), [1]),\n",
        "    (\"product\", \"drop\", [2]),\n",
        "    (\"TypeName\", sklearn.preprocessing.OrdinalEncoder(), [3]),\n",
        "    (\"Inches\", sklearn.preprocessing.StandardScaler(), [4]),\n",
        "    (\"ScreenResolution\", sklearn.preprocessing.OrdinalEncoder(), [5]),\n",
        "    (\"Cpu\", sklearn.preprocessing.StandardScaler(), [6]),\n",
        "    (\"Ram\", sklearn.preprocessing.MinMaxScaler(), [7]),\n",
        "    (\"Memory\", sklearn.preprocessing.OrdinalEncoder(), [8]),\n",
        "    (\"Gpu\", sklearn.preprocessing.OrdinalEncoder(), [9]),\n",
        "    (\"OpSys\", sklearn.preprocessing.OrdinalEncoder(), [10]),\n",
        "    (\"Weight\", sklearn.preprocessing.StandardScaler(), [11]),\n",
        "    (\"price\", \"drop\", [12])\n",
        "]);\n",
        "data = column_transformer.fit_transform(np_laptops)\n",
        "\n",
        "column_transformer = sklearn.compose.ColumnTransformer(transformers=[\n",
        "    (\"id\", \"drop\", [0]),\n",
        "    (\"company\", \"drop\", [1]),\n",
        "    (\"product\", \"drop\", [2]),\n",
        "    (\"typeName\", \"drop\", [3]),\n",
        "    (\"inches\", \"drop\", [4]),\n",
        "    (\"screenResolution\", \"drop\", [5]),\n",
        "    (\"cpu\", \"drop\", [6]),\n",
        "    (\"ram\", \"drop\", [7]),\n",
        "    (\"memory\", \"drop\", [8]),\n",
        "    (\"gpu\", \"drop\", [9]),\n",
        "    (\"opSys\", \"drop\", [10]),\n",
        "    (\"weight\", \"drop\", [11]),\n",
        "    (\"Price\", \"passthrough\", [12])\n",
        "]);\n",
        "target = column_transformer.fit_transform(np_laptops)"
      ],
      "metadata": {
        "id": "eWTLHjzs1cD8"
      },
      "execution_count": 6,
      "outputs": []
    }
  ]
}
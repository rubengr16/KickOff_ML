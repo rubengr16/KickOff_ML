{
 "cells": [
  {
   "cell_type": "markdown",
   "metadata": {
    "id": "q3jaZAd_mvct"
   },
   "source": [
    "# 1. Importación de imágenes"
   ]
  },
  {
   "cell_type": "markdown",
   "metadata": {
    "id": "YeVU89-cZUd2"
   },
   "source": [
    "Se realiza la importación de imágenes de test mediante la descarga de un zip alojado en el github personal de uno de nosotr@s:"
   ]
  },
  {
   "cell_type": "code",
   "execution_count": 1,
   "metadata": {
    "colab": {
     "base_uri": "https://localhost:8080/"
    },
    "id": "2IQ2GDT-1Pk4",
    "outputId": "14caa3ad-5627-44ec-fcae-637b7c86e18d"
   },
   "outputs": [
    {
     "data": {
      "text/plain": [
       "6203566"
      ]
     },
     "execution_count": 1,
     "metadata": {},
     "output_type": "execute_result"
    }
   ],
   "source": [
    "import requests\n",
    "\n",
    "URL = 'https://github.com/rubengr16/MachineLearning/raw/main/Prac3/test.zip'\n",
    "# Descarga de los datos a partir de la URL\n",
    "response = requests.get(URL)\n",
    "# Abrir la respuesta de la request https para escribir su contenido en el directorio actual\n",
    "open('test.zip', 'wb').write(response.content)"
   ]
  },
  {
   "cell_type": "markdown",
   "metadata": {
    "id": "HTKpvQOhZUd5"
   },
   "source": [
    "Una vez tenemos en nuestro directorio el zip con las imágenes, estas son extraídas mediante la librería zipfile:"
   ]
  },
  {
   "cell_type": "code",
   "execution_count": 2,
   "metadata": {
    "id": "Ro0DSek51ir7"
   },
   "outputs": [],
   "source": [
    "import zipfile\n",
    "\n",
    "with zipfile.ZipFile('test.zip', 'r') as zip_ref:\n",
    "    zip_ref.extractall('test/')"
   ]
  },
  {
   "cell_type": "markdown",
   "metadata": {
    "id": "seZWwdbQZUd6"
   },
   "source": [
    "Realizamos el proceso análogo descargando el zip de train. Lo único que en este caso por el peso del zip hemos tenido que dividirlo, pues github limita los archivos de más de 25MB y en este caso el zip pesaba alrededor de 150MB:"
   ]
  },
  {
   "cell_type": "code",
   "execution_count": 3,
   "metadata": {
    "id": "klHub07R1nZq"
   },
   "outputs": [],
   "source": [
    "# Iteramos por los 15 zips que han resultado de la división en zips de 10MB como máximo y descargamos cada uno:\n",
    "for i in range(1, 16):\n",
    "    number = str(i) if i > 9 else '0' + str(i)\n",
    "    URL = f'https://github.com/rubengr16/MachineLearning/raw/main/Prac3/train.zip.0{number}'\n",
    "    response = requests.get(URL)\n",
    "    open(f'train.zip.0{number}', 'wb').write(response.content)"
   ]
  },
  {
   "cell_type": "markdown",
   "metadata": {
    "id": "GlgWigmHZUd8"
   },
   "source": [
    "Mediante una lógica similar extraemos el conjunto de imágenes de train. Sólo que antes de extraerlas, unificamos cada uno de los zips divididos en uno común que pueda extraer la librería zipfile:"
   ]
  },
  {
   "cell_type": "code",
   "execution_count": 4,
   "metadata": {
    "id": "VQnuBkNB2Piq"
   },
   "outputs": [],
   "source": [
    "import os\n",
    "\n",
    "for i in range(1, 16):\n",
    "    # Si el número es menor que 10, por ejemplo el 1 se representará como 01. Mientras que el 13 será 13 tal cual\n",
    "    number = str(i) if i > 9 else '0' + str(i)\n",
    "    with open(\"train.zip\", \"ab\") as f:\n",
    "        with open(f'train.zip.0{number}', \"rb\") as z:\n",
    "            f.write(z.read())\n",
    "\n",
    "with zipfile.ZipFile('train.zip', \"r\") as zip_ref:\n",
    "    zip_ref.extractall('./')"
   ]
  },
  {
   "cell_type": "markdown",
   "metadata": {
    "id": "kG20KCt8ZUd9"
   },
   "source": [
    "Para no tener zips residuales entre nuestro sistema de archivos, nos deshacemos de aquellos zips que contenían las imágenes después de haberlas extraído:"
   ]
  },
  {
   "cell_type": "code",
   "execution_count": 5,
   "metadata": {
    "id": "GLgpGKOZ2YOK"
   },
   "outputs": [],
   "source": [
    "os.remove('test.zip')\n",
    "os.remove('train.zip')\n",
    "for i in range(1, 16):\n",
    "    number = str(i) if i > 9 else '0' + str(i)\n",
    "    os.remove(f'train.zip.0{number}')"
   ]
  },
  {
   "cell_type": "markdown",
   "metadata": {
    "id": "Hh_S6qefmmDe"
   },
   "source": [
    "# 2. Máscara para imágenes y dimensiones"
   ]
  },
  {
   "cell_type": "markdown",
   "metadata": {
    "id": "f8-j9khKZUd-"
   },
   "source": [
    "Obtenemos todas las imágenes localizadas en la carpeta train:"
   ]
  },
  {
   "cell_type": "code",
   "execution_count": 45,
   "metadata": {
    "id": "kyUl80S-ZUd-"
   },
   "outputs": [],
   "source": [
    "import numpy as np\n",
    "from PIL import Image\n",
    "\n",
    "entries = os.listdir('train/')\n",
    "\n",
    "images_dataset = []\n",
    "for entry in entries:\n",
    "    image = Image.open(f'train/{entry}')\n",
    "    images_dataset.append(np.asarray(image))\n",
    "    \n",
    "images_dataset = np.array(images_dataset)"
   ]
  },
  {
   "cell_type": "markdown",
   "metadata": {
    "id": "RH4cfAOTxhOT"
   },
   "source": [
    "Antes de poner las máscaras, debemos asegurarnos de que todas las imágenes del dataset tienen el mismo tamaño, y en caso negativo, redimensionarlas para que así sea."
   ]
  },
  {
   "cell_type": "code",
   "execution_count": 46,
   "metadata": {
    "id": "s89b_IH7ytvP"
   },
   "outputs": [],
   "source": [
    "def dimensiones(list):\n",
    "    bool = True\n",
    "    dim = list[0].shape\n",
    "    for image in list:\n",
    "        if image.shape != dim:\n",
    "            bool = False\n",
    "    if bool:\n",
    "        print(\"Todas las imágenes del dataset tienen las mismas dimensiones.\")\n",
    "    else:\n",
    "        print(\"No todas las imágenes del dataset tienen las mismas dimensiones.\")"
   ]
  },
  {
   "cell_type": "markdown",
   "metadata": {},
   "source": [
    "Lo ejecutamos:"
   ]
  },
  {
   "cell_type": "code",
   "execution_count": 47,
   "metadata": {},
   "outputs": [
    {
     "name": "stdout",
     "output_type": "stream",
     "text": [
      "Todas las imágenes del dataset tienen las mismas dimensiones.\n"
     ]
    }
   ],
   "source": [
    "dimensiones(images_dataset)"
   ]
  },
  {
   "cell_type": "markdown",
   "metadata": {
    "id": "FTLFZRt51J8_"
   },
   "source": [
    "Por tanto se puede concluir que todas las imágenes tienen las mismas dimensiones."
   ]
  },
  {
   "cell_type": "markdown",
   "metadata": {
    "id": "-msRGrnhZUd_"
   },
   "source": [
    "Para poder comparar con las máscaras vamos a ver la imagen, por ejemplo observamos la de la posición 7"
   ]
  },
  {
   "cell_type": "code",
   "execution_count": 6,
   "metadata": {
    "colab": {
     "base_uri": "https://localhost:8080/",
     "height": 314
    },
    "id": "eRb7zsd5ZUd_",
    "outputId": "723d28b0-05d7-4af2-9386-19220da3a846"
   },
   "outputs": [
    {
     "data": {
      "text/plain": [
       "<matplotlib.image.AxesImage at 0x1f04840b670>"
      ]
     },
     "execution_count": 6,
     "metadata": {},
     "output_type": "execute_result"
    },
    {
     "data": {
      "image/png": "[encoded data removed]",
      "text/plain": [
       "<Figure size 640x480 with 1 Axes>"
      ]
     },
     "metadata": {},
     "output_type": "display_data"
    }
   ],
   "source": [
    "from skimage import io\n",
    "\n",
    "io.imshow(images_dataset[6])"
   ]
  },
  {
   "cell_type": "raw",
   "metadata": {
    "id": "gvwSN0BzZUd_"
   },
   "source": [
    "Creamos una máscara que establezca a (0, 0, 0), es decir, a negro todo, menos las esquinas superior-izquierda e inferior-derecha:"
   ]
  },
  {
   "cell_type": "code",
   "execution_count": 48,
   "metadata": {
    "id": "YPjwkJ9WkmXM"
   },
   "outputs": [],
   "source": [
    "def mascara(dataset):\n",
    "    mascara_dataset = dataset.copy()\n",
    "    for i in range(len(mascara_dataset)):\n",
    "        foto = mascara_dataset[i]\n",
    "        foto[:160, 64:224] = 0\n",
    "        foto[64:224 , :160] = 0\n",
    "    return mascara_dataset"
   ]
  },
  {
   "cell_type": "markdown",
   "metadata": {},
   "source": [
    "Aplicamos la máscara:"
   ]
  },
  {
   "cell_type": "code",
   "execution_count": 49,
   "metadata": {},
   "outputs": [],
   "source": [
    "train_array = mascara(images_dataset)"
   ]
  },
  {
   "cell_type": "markdown",
   "metadata": {
    "id": "sWrZvMFmZUeA"
   },
   "source": [
    "Comprobamos que se ha logrado aplicar la máscara correctamente:"
   ]
  },
  {
   "cell_type": "code",
   "execution_count": 9,
   "metadata": {
    "colab": {
     "base_uri": "https://localhost:8080/",
     "height": 314
    },
    "id": "-KuNcPofZUeA",
    "outputId": "e9cbf89d-a44c-431a-9bc5-a5b5f077920b"
   },
   "outputs": [
    {
     "data": {
      "text/plain": [
       "<matplotlib.image.AxesImage at 0x1f048456460>"
      ]
     },
     "execution_count": 9,
     "metadata": {},
     "output_type": "execute_result"
    },
    {
     "data": {
      "image/png": "[encoded data removed]",
      "text/plain": [
       "<Figure size 640x480 with 1 Axes>"
      ]
     },
     "metadata": {},
     "output_type": "display_data"
    }
   ],
   "source": [
    "io.imshow(train_array[6])"
   ]
  },
  {
   "cell_type": "markdown",
   "metadata": {
    "id": "kMMUGR1FIO_W"
   },
   "source": [
    "# 3. Normalización"
   ]
  },
  {
   "cell_type": "markdown",
   "metadata": {
    "id": "rlPbdagzZUeA"
   },
   "source": [
    "Iniciamos la normalización. Como sabemos, cada uno de los píxeles que conforman la imagen obtienen su valor de una tupla con 3 elementos que varían del 0 al 255. Cada uno de estos 3 elementos se componen a la intensidad de Red -rojo-, Green -verde- y Blue -azul-, respectivamente. De modo que primero observamos el contenido del train_array[6] antes de la normalización:"
   ]
  },
  {
   "cell_type": "code",
   "execution_count": 16,
   "metadata": {
    "colab": {
     "base_uri": "https://localhost:8080/"
    },
    "id": "OpNzfyh-ZUeB",
    "outputId": "bd4880d2-21f6-467d-cd69-44365ff707fb"
   },
   "outputs": [
    {
     "data": {
      "text/plain": [
       "array([[[196, 207, 201],\n",
       "        [202, 208, 206],\n",
       "        [205, 207, 206],\n",
       "        ...,\n",
       "        [  0,   0,   0],\n",
       "        [  0,   0,   0],\n",
       "        [  0,   0,   0]],\n",
       "\n",
       "       [[222, 228, 224],\n",
       "        [212, 216, 215],\n",
       "        [201, 201, 203],\n",
       "        ...,\n",
       "        [  0,   0,   0],\n",
       "        [  0,   0,   0],\n",
       "        [  0,   0,   0]],\n",
       "\n",
       "       [[211, 211, 211],\n",
       "        [204, 202, 203],\n",
       "        [202, 197, 201],\n",
       "        ...,\n",
       "        [  0,   0,   0],\n",
       "        [  0,   0,   0],\n",
       "        [  0,   0,   0]],\n",
       "\n",
       "       ...,\n",
       "\n",
       "       [[  0,   0,   0],\n",
       "        [  0,   0,   0],\n",
       "        [  0,   0,   0],\n",
       "        ...,\n",
       "        [224, 218, 220],\n",
       "        [224, 220, 221],\n",
       "        [222, 220, 221]],\n",
       "\n",
       "       [[  0,   0,   0],\n",
       "        [  0,   0,   0],\n",
       "        [  0,   0,   0],\n",
       "        ...,\n",
       "        [231, 227, 224],\n",
       "        [229, 225, 222],\n",
       "        [231, 228, 223]],\n",
       "\n",
       "       [[  0,   0,   0],\n",
       "        [  0,   0,   0],\n",
       "        [  0,   0,   0],\n",
       "        ...,\n",
       "        [228, 224, 221],\n",
       "        [232, 227, 221],\n",
       "        [231, 227, 218]]], dtype=uint8)"
      ]
     },
     "execution_count": 16,
     "metadata": {},
     "output_type": "execute_result"
    }
   ],
   "source": [
    "train_array[6]"
   ]
  },
  {
   "cell_type": "markdown",
   "metadata": {
    "id": "PFA3ed0ZZUeB"
   },
   "source": [
    "Creamos una función para normalizar, convirtiendo los valores del array a floats y luego lo dividimos entre el máximo valor posible, es decir 255, de modo que obtengamos valores entre 0 y 1:"
   ]
  },
  {
   "cell_type": "code",
   "execution_count": 50,
   "metadata": {
    "id": "Gg_tZriPZUeB"
   },
   "outputs": [],
   "source": [
    "def normalizar(array):\n",
    "    array = array.astype('float32')\n",
    "    array = array / 255.0\n",
    "    return array"
   ]
  },
  {
   "cell_type": "markdown",
   "metadata": {},
   "source": [
    "Normalizamos con la función ya creada:"
   ]
  },
  {
   "cell_type": "code",
   "execution_count": 51,
   "metadata": {},
   "outputs": [],
   "source": [
    "train_array = normalizar(train_array)"
   ]
  },
  {
   "cell_type": "markdown",
   "metadata": {
    "id": "5ctLoVM3ZUeB"
   },
   "source": [
    "Comprobamos el cambio de valor tras la normalización:"
   ]
  },
  {
   "cell_type": "code",
   "execution_count": 18,
   "metadata": {
    "colab": {
     "base_uri": "https://localhost:8080/"
    },
    "id": "N_RnIAkbZUeB",
    "outputId": "3ed5cdad-8583-4d22-ad8a-77f12b6b6705"
   },
   "outputs": [
    {
     "data": {
      "text/plain": [
       "array([[[0.76862746, 0.8117647 , 0.7882353 ],\n",
       "        [0.7921569 , 0.8156863 , 0.80784315],\n",
       "        [0.8039216 , 0.8117647 , 0.80784315],\n",
       "        ...,\n",
       "        [0.        , 0.        , 0.        ],\n",
       "        [0.        , 0.        , 0.        ],\n",
       "        [0.        , 0.        , 0.        ]],\n",
       "\n",
       "       [[0.87058824, 0.89411765, 0.8784314 ],\n",
       "        [0.83137256, 0.84705883, 0.84313726],\n",
       "        [0.7882353 , 0.7882353 , 0.79607844],\n",
       "        ...,\n",
       "        [0.        , 0.        , 0.        ],\n",
       "        [0.        , 0.        , 0.        ],\n",
       "        [0.        , 0.        , 0.        ]],\n",
       "\n",
       "       [[0.827451  , 0.827451  , 0.827451  ],\n",
       "        [0.8       , 0.7921569 , 0.79607844],\n",
       "        [0.7921569 , 0.77254903, 0.7882353 ],\n",
       "        ...,\n",
       "        [0.        , 0.        , 0.        ],\n",
       "        [0.        , 0.        , 0.        ],\n",
       "        [0.        , 0.        , 0.        ]],\n",
       "\n",
       "       ...,\n",
       "\n",
       "       [[0.        , 0.        , 0.        ],\n",
       "        [0.        , 0.        , 0.        ],\n",
       "        [0.        , 0.        , 0.        ],\n",
       "        ...,\n",
       "        [0.8784314 , 0.85490197, 0.8627451 ],\n",
       "        [0.8784314 , 0.8627451 , 0.8666667 ],\n",
       "        [0.87058824, 0.8627451 , 0.8666667 ]],\n",
       "\n",
       "       [[0.        , 0.        , 0.        ],\n",
       "        [0.        , 0.        , 0.        ],\n",
       "        [0.        , 0.        , 0.        ],\n",
       "        ...,\n",
       "        [0.90588236, 0.8901961 , 0.8784314 ],\n",
       "        [0.8980392 , 0.88235295, 0.87058824],\n",
       "        [0.90588236, 0.89411765, 0.8745098 ]],\n",
       "\n",
       "       [[0.        , 0.        , 0.        ],\n",
       "        [0.        , 0.        , 0.        ],\n",
       "        [0.        , 0.        , 0.        ],\n",
       "        ...,\n",
       "        [0.89411765, 0.8784314 , 0.8666667 ],\n",
       "        [0.9098039 , 0.8901961 , 0.8666667 ],\n",
       "        [0.90588236, 0.8901961 , 0.85490197]]], dtype=float32)"
      ]
     },
     "execution_count": 18,
     "metadata": {},
     "output_type": "execute_result"
    }
   ],
   "source": [
    "train_array[6]"
   ]
  },
  {
   "cell_type": "markdown",
   "metadata": {
    "id": "sFPCJi5LZUeC"
   },
   "source": [
    "Mostramos la imagen número 6 para ver que la normalización no ha afectado a lo que representa:"
   ]
  },
  {
   "cell_type": "code",
   "execution_count": 19,
   "metadata": {
    "colab": {
     "base_uri": "https://localhost:8080/",
     "height": 314
    },
    "id": "emX4A-7jZUeC",
    "outputId": "703703e8-7b4f-4819-b774-3ae35fe1cad7",
    "scrolled": false
   },
   "outputs": [
    {
     "data": {
      "text/plain": [
       "<matplotlib.image.AxesImage at 0x2819bc28ee0>"
      ]
     },
     "execution_count": 19,
     "metadata": {},
     "output_type": "execute_result"
    },
    {
     "data": {
      "image/png": "[encoded data removed]",
      "text/plain": [
       "<Figure size 640x480 with 1 Axes>"
      ]
     },
     "metadata": {},
     "output_type": "display_data"
    }
   ],
   "source": [
    "io.imshow(train_array[6])"
   ]
  },
  {
   "cell_type": "markdown",
   "metadata": {
    "id": "GxrexT3uIa5s"
   },
   "source": [
    "# 4. Filtros"
   ]
  },
  {
   "cell_type": "markdown",
   "metadata": {
    "id": "fSRFwc57aDCt"
   },
   "source": [
    "Para no sesgar los datos de entrada del algoritmo, debemos pasar los datos \"en crudo\". Sin embargo, lo que sí se puede hacer es reducir el espacio de búsqueda, puesto que es muy grande. Esto ayudará al algoritmo de Machine Learning a encontrar patrones en los datos más fácilmente."
   ]
  },
  {
   "cell_type": "markdown",
   "metadata": {
    "id": "iRsdEPaIbs-L"
   },
   "source": [
    "Por tanto, procedemos a aplicar algunos filtros a las imágenes. Lo primero es importar filters de skimage."
   ]
  },
  {
   "cell_type": "code",
   "execution_count": 24,
   "metadata": {
    "id": "8E3TDbckpO2X"
   },
   "outputs": [],
   "source": [
    "from skimage import filters"
   ]
  },
  {
   "cell_type": "markdown",
   "metadata": {
    "id": "UP_2Ln5cRQMm"
   },
   "source": [
    "## Paso a rgb2gray"
   ]
  },
  {
   "cell_type": "markdown",
   "metadata": {
    "id": "jigH6l4vcIgC"
   },
   "source": [
    "Puesto que la mayoría de los filtros están pensados para trabajar con escalas de grises, vamos a transformar las imágenes con rgb2gray."
   ]
  },
  {
   "cell_type": "code",
   "execution_count": 52,
   "metadata": {
    "id": "Lff5Fy9UP105"
   },
   "outputs": [],
   "source": [
    "from skimage.color import rgb2gray\n",
    "\n",
    "def gray_filter(array):\n",
    "    gray_array = list(array)\n",
    "    for i in range(len(gray_array)):\n",
    "        gray_array[i] = rgb2gray(gray_array[i])\n",
    "    return gray_array"
   ]
  },
  {
   "cell_type": "markdown",
   "metadata": {
    "id": "ISbHD04FccUC"
   },
   "source": [
    "Ejecutamos y mostramos que el cambio se ha llevado a cabo satisfactoriamente."
   ]
  },
  {
   "cell_type": "code",
   "execution_count": 53,
   "metadata": {
    "colab": {
     "base_uri": "https://localhost:8080/",
     "height": 314
    },
    "id": "bExJZXR3TJ-G",
    "outputId": "3a45d325-5314-4cfc-d617-6aa43cf5dbf5"
   },
   "outputs": [
    {
     "data": {
      "text/plain": [
       "<matplotlib.image.AxesImage at 0x1efffead610>"
      ]
     },
     "execution_count": 53,
     "metadata": {},
     "output_type": "execute_result"
    },
    {
     "data": {
      "image/png": "[encoded data removed]",
      "text/plain": [
       "<Figure size 640x480 with 1 Axes>"
      ]
     },
     "metadata": {},
     "output_type": "display_data"
    }
   ],
   "source": [
    "gray_array = gray_filter(train_array)\n",
    "\n",
    "io.imshow(gray_array[6])"
   ]
  },
  {
   "cell_type": "markdown",
   "metadata": {
    "id": "-j1GMtkMdQ2p"
   },
   "source": [
    "A continuación, podemos usar los distintos filtros. Es posible tanto utilizar uno por separado como combinarlos. Presentamos 10 filtros distintos: gaussian, unsharp_mask, median, sobel, scharr, prewitt, roberts, laplace, frangi y hessian."
   ]
  },
  {
   "cell_type": "markdown",
   "metadata": {
    "id": "Ehg9LATMRH5W"
   },
   "source": [
    "## Filtro gaussian"
   ]
  },
  {
   "cell_type": "markdown",
   "metadata": {
    "id": "tTvTZw6JeNRk"
   },
   "source": [
    "El filtro gaussian permite desenfocar las imágenes."
   ]
  },
  {
   "cell_type": "code",
   "execution_count": 25,
   "metadata": {
    "id": "nlDNuoI1qzwj"
   },
   "outputs": [],
   "source": [
    "def gaussian_filter(array):\n",
    "    sigma = 5.5\n",
    "    for i in range(len(array)):\n",
    "        array[i] = filters.gaussian(array[i], sigma=sigma)\n",
    "    return array"
   ]
  },
  {
   "cell_type": "code",
   "execution_count": 29,
   "metadata": {
    "colab": {
     "base_uri": "https://localhost:8080/",
     "height": 314
    },
    "id": "OE3XUUjBTD2V",
    "outputId": "64c18484-5f61-4c43-806a-820674acc0df",
    "scrolled": true
   },
   "outputs": [
    {
     "data": {
      "text/plain": [
       "<matplotlib.image.AxesImage at 0x1f121feaf10>"
      ]
     },
     "execution_count": 29,
     "metadata": {},
     "output_type": "execute_result"
    },
    {
     "data": {
      "image/png": "[encoded data removed]",
      "text/plain": [
       "<Figure size 640x480 with 1 Axes>"
      ]
     },
     "metadata": {},
     "output_type": "display_data"
    }
   ],
   "source": [
    "gaussian_array = gaussian_filter(train_array)\n",
    "io.imshow(gaussian_array[6])"
   ]
  },
  {
   "cell_type": "markdown",
   "metadata": {
    "id": "xp83xxNrRYw1"
   },
   "source": [
    "## Filtro unsharp_mask"
   ]
  },
  {
   "cell_type": "markdown",
   "metadata": {
    "id": "4o-l6nRIhBIQ"
   },
   "source": [
    "El filtro unsharp_mask resalta los bordes de la imagen, y además desenfoca las zonas sin bordes."
   ]
  },
  {
   "cell_type": "code",
   "execution_count": null,
   "metadata": {
    "id": "WnxO6PczszHG"
   },
   "outputs": [],
   "source": [
    "def unsharp_mask_filter(array):\n",
    "    radius = 98.5\n",
    "    for i in range(len(array)):\n",
    "        array[i] = filters.unsharp_mask(array[i], radius=radius)\n",
    "    return array"
   ]
  },
  {
   "cell_type": "code",
   "execution_count": null,
   "metadata": {
    "id": "xAePMx3Lt40P"
   },
   "outputs": [],
   "source": [
    "u_m_array = unsharp_mask_filter(train_array)\n",
    "io.imshow(u_m_array[6])"
   ]
  },
  {
   "cell_type": "markdown",
   "metadata": {
    "id": "BThJ5PuFRizX"
   },
   "source": [
    "## Filtro median"
   ]
  },
  {
   "cell_type": "markdown",
   "metadata": {
    "id": "bE6KUBkmhWMA"
   },
   "source": [
    "El filtro median \"aplana\" la imagen."
   ]
  },
  {
   "cell_type": "code",
   "execution_count": 211,
   "metadata": {
    "id": "5OyvmUUQwL0I"
   },
   "outputs": [],
   "source": [
    "def median_filter(array):\n",
    "    for i in range(len(array)):\n",
    "        array[i] = filters.median(array[i])\n",
    "    return array"
   ]
  },
  {
   "cell_type": "code",
   "execution_count": 212,
   "metadata": {
    "id": "i75j29gIwikG"
   },
   "outputs": [
    {
     "data": {
      "text/plain": [
       "<matplotlib.image.AxesImage at 0x1f01026cfd0>"
      ]
     },
     "execution_count": 212,
     "metadata": {},
     "output_type": "execute_result"
    },
    {
     "data": {
      "image/png": "[encoded data removed]",
      "text/plain": [
       "<Figure size 640x480 with 1 Axes>"
      ]
     },
     "metadata": {},
     "output_type": "display_data"
    }
   ],
   "source": [
    "median_array = median_filter(train_array)\n",
    "io.imshow(train_array[6])"
   ]
  },
  {
   "cell_type": "markdown",
   "metadata": {
    "id": "TXTH6gb9RnTt"
   },
   "source": [
    "## Filtro sobel"
   ]
  },
  {
   "cell_type": "markdown",
   "metadata": {
    "id": "JacDMiiBtJYg"
   },
   "source": [
    "A partir de este filtro, todos se centran en los bordes de las imágenes que, normalmente, es donde residen las principales diferencias. "
   ]
  },
  {
   "cell_type": "code",
   "execution_count": 213,
   "metadata": {
    "id": "FjRZoJ9dxVWr"
   },
   "outputs": [],
   "source": [
    "def sobel_filter(array):\n",
    "    for i in range(len(array)):\n",
    "        array[i] = filters.sobel(array[i])\n",
    "    return array"
   ]
  },
  {
   "cell_type": "code",
   "execution_count": 214,
   "metadata": {
    "id": "jGwCExSNyn_4"
   },
   "outputs": [
    {
     "data": {
      "text/plain": [
       "<matplotlib.image.AxesImage at 0x1f0102e6160>"
      ]
     },
     "execution_count": 214,
     "metadata": {},
     "output_type": "execute_result"
    },
    {
     "data": {
      "image/png": "[encoded data removed]",
      "text/plain": [
       "<Figure size 640x480 with 1 Axes>"
      ]
     },
     "metadata": {},
     "output_type": "display_data"
    }
   ],
   "source": [
    "sobel_array = sobel_filter(train_array)\n",
    "io.imshow(sobel_array[6])"
   ]
  },
  {
   "cell_type": "markdown",
   "metadata": {
    "id": "MxiPl79iRrIv"
   },
   "source": [
    "## Filtro scharr"
   ]
  },
  {
   "cell_type": "code",
   "execution_count": 33,
   "metadata": {
    "id": "p-T_MRS2yza7"
   },
   "outputs": [],
   "source": [
    "def scharr_filter(array):\n",
    "    for i in range(len(array)):\n",
    "        array[i] = filters.scharr(array[i])\n",
    "    return array"
   ]
  },
  {
   "cell_type": "code",
   "execution_count": null,
   "metadata": {
    "id": "khSoA2VrzBkE"
   },
   "outputs": [],
   "source": [
    "scharr_array = scharr_filter(train_array)\n",
    "io.imshow(scharr_array[6])"
   ]
  },
  {
   "cell_type": "markdown",
   "metadata": {
    "id": "gGWSQwUgRz8k"
   },
   "source": [
    "## Filtro prewitt"
   ]
  },
  {
   "cell_type": "code",
   "execution_count": 217,
   "metadata": {
    "id": "bhg66NzxzSSH"
   },
   "outputs": [],
   "source": [
    "def prewitt_filter(array):\n",
    "    for i in range(len(array)):\n",
    "        array[i] = filters.prewitt(array[i])\n",
    "    return array"
   ]
  },
  {
   "cell_type": "code",
   "execution_count": 218,
   "metadata": {
    "id": "7E9--fTazcaU"
   },
   "outputs": [
    {
     "data": {
      "text/plain": [
       "<matplotlib.image.AxesImage at 0x1f0103b2e80>"
      ]
     },
     "execution_count": 218,
     "metadata": {},
     "output_type": "execute_result"
    },
    {
     "data": {
      "image/png": "[encoded data removed]",
      "text/plain": [
       "<Figure size 640x480 with 1 Axes>"
      ]
     },
     "metadata": {},
     "output_type": "display_data"
    }
   ],
   "source": [
    "prewitt_array = prewitt_filter(train_array)\n",
    "io.imshow(prewitt_array[6])"
   ]
  },
  {
   "cell_type": "markdown",
   "metadata": {
    "id": "LPWC98HFR9R1"
   },
   "source": [
    "## Filtro roberts"
   ]
  },
  {
   "cell_type": "code",
   "execution_count": 34,
   "metadata": {
    "id": "XuXJicDlz4p_"
   },
   "outputs": [],
   "source": [
    "def roberts_filter(array):\n",
    "    for i in range(len(array)):\n",
    "        array[i] = filters.roberts(array[i])\n",
    "    return array"
   ]
  },
  {
   "cell_type": "code",
   "execution_count": null,
   "metadata": {
    "id": "he5OXw_b0Aol"
   },
   "outputs": [],
   "source": [
    "robert_array = roberts_filter(train_array)\n",
    "io.imshow(robert_array[6])"
   ]
  },
  {
   "cell_type": "markdown",
   "metadata": {
    "id": "9UG3UlgsSCuV"
   },
   "source": [
    "## Filtro laplace"
   ]
  },
  {
   "cell_type": "code",
   "execution_count": 219,
   "metadata": {
    "id": "Ch5SRqgC0NeU"
   },
   "outputs": [],
   "source": [
    "def laplace_filter(array):\n",
    "    for i in range(len(array)):\n",
    "        array[i] = filters.laplace(array[i])\n",
    "    return array"
   ]
  },
  {
   "cell_type": "code",
   "execution_count": 220,
   "metadata": {
    "colab": {
     "base_uri": "https://localhost:8080/",
     "height": 314
    },
    "id": "8lE2A9Cy0ZWu",
    "outputId": "62220648-90ae-4df9-d58d-a10b0001b002"
   },
   "outputs": [
    {
     "name": "stderr",
     "output_type": "stream",
     "text": [
      "Clipping input data to the valid range for imshow with RGB data ([0..1] for floats or [0..255] for integers).\n"
     ]
    },
    {
     "data": {
      "text/plain": [
       "<matplotlib.image.AxesImage at 0x1f010437e50>"
      ]
     },
     "execution_count": 220,
     "metadata": {},
     "output_type": "execute_result"
    },
    {
     "data": {
      "image/png": "[encoded data removed]",
      "text/plain": [
       "<Figure size 640x480 with 2 Axes>"
      ]
     },
     "metadata": {},
     "output_type": "display_data"
    }
   ],
   "source": [
    "laplace_array = laplace_filter(train_array)\n",
    "io.imshow(laplace_array[6])"
   ]
  },
  {
   "cell_type": "markdown",
   "metadata": {
    "id": "5yN749vdSHAj"
   },
   "source": [
    "## Filtro frangi"
   ]
  },
  {
   "cell_type": "code",
   "execution_count": 38,
   "metadata": {
    "id": "y4wN-MTJ0xyq"
   },
   "outputs": [],
   "source": [
    "def frangi(array):\n",
    "    for i in range(len(array)):\n",
    "        array[i] = filters.frangi(array[i])\n",
    "    return array"
   ]
  },
  {
   "cell_type": "code",
   "execution_count": null,
   "metadata": {
    "id": "FQfgwtVZ09P7"
   },
   "outputs": [],
   "source": [
    "frangi_array = frangi_filter(train_array)\n",
    "io.imshow(frangi_array[6])"
   ]
  },
  {
   "cell_type": "markdown",
   "metadata": {
    "id": "C8z93Cg_SKvp"
   },
   "source": [
    "## Filtro hessian"
   ]
  },
  {
   "cell_type": "code",
   "execution_count": 221,
   "metadata": {
    "id": "LEqk0z5C2BPk"
   },
   "outputs": [],
   "source": [
    "def hessian_filter(array):\n",
    "    for i in range(len(array)):\n",
    "        array[i] = filters.hessian(array[i])\n",
    "    return array"
   ]
  },
  {
   "cell_type": "code",
   "execution_count": null,
   "metadata": {
    "id": "mSfQ_oi42Ojg"
   },
   "outputs": [
    {
     "name": "stderr",
     "output_type": "stream",
     "text": [
      "C:\\Users\\User\\anaconda3\\lib\\site-packages\\skimage\\_shared\\utils.py:348: RuntimeWarning: Images with dimensions (M, N, 3) are interpreted as 2D+RGB by default. Use `multichannel=False` to interpret as 3D image with last dimension of length 3.\n",
      "  return func(*args, **kwargs)\n"
     ]
    }
   ],
   "source": [
    "hessian_array = hessian_filter(train_array)\n",
    "io.imshow(hessian_array[6])"
   ]
  },
  {
   "cell_type": "markdown",
   "metadata": {},
   "source": [
    "# 5. Redimensionamiento"
   ]
  },
  {
   "cell_type": "markdown",
   "metadata": {},
   "source": [
    "Cada una de las imágenes está representada por una matriz de 224x224 valores, conteniendo en cada valor un valor o un array con 3 valores -R, G, B-:"
   ]
  },
  {
   "cell_type": "code",
   "execution_count": 94,
   "metadata": {},
   "outputs": [],
   "source": [
    "from sklearn.decomposition import PCA\n",
    "\n",
    "def redimensionar(dataset):\n",
    "    redimension_array = []\n",
    "    # Obtener la dimensión total de las imágenes\n",
    "    redimension_size = 1\n",
    "    for dim in dataset[0].shape:\n",
    "        redimension_size = redimension_size * dim\n",
    "    # Redimensión de las imágenes\n",
    "    for data in dataset:\n",
    "        redimension_array.append(np.reshape(data, redimension_size))\n",
    "    # Transformación de los datos a 2 valores para que puedan ser interpretados por el modelo\n",
    "    pca = PCA(2)\n",
    "    converted_data = pca.fit_transform(redimension_array)\n",
    "    return converted_data"
   ]
  },
  {
   "cell_type": "markdown",
   "metadata": {},
   "source": [
    "Ejecutamos la redimensión:"
   ]
  },
  {
   "cell_type": "code",
   "execution_count": 95,
   "metadata": {},
   "outputs": [],
   "source": [
    "gray_array = redimensionar(gray_array)"
   ]
  },
  {
   "cell_type": "markdown",
   "metadata": {
    "id": "bKzgDgNc0f0C"
   },
   "source": [
    "# 6. Clustering"
   ]
  },
  {
   "cell_type": "markdown",
   "metadata": {
    "id": "CsQZ1Lrd1eHe"
   },
   "source": [
    "A continuación, vamos a probar nuestro conjunto de entrenamiento con distintos métodos de clustering vistos en clase."
   ]
  },
  {
   "cell_type": "markdown",
   "metadata": {
    "id": "STZ3mPN_1aFu"
   },
   "source": [
    "## KMeans"
   ]
  },
  {
   "cell_type": "markdown",
   "metadata": {
    "id": "upJcLhET1w_P"
   },
   "source": [
    "KMeans es un algoritmo de clasificación no supervisado que agrupa objetos en grupos según sus características."
   ]
  },
  {
   "cell_type": "markdown",
   "metadata": {
    "id": "ZCSPlNLF2JbO"
   },
   "source": [
    "Para utilizar este algoritmo necesitamos un vector de 2 dimensiones como mucho, pero nosotros estamos utilizando una lista, así que la convertiremos en un array con numpy."
   ]
  },
  {
   "cell_type": "code",
   "execution_count": 99,
   "metadata": {
    "id": "uUz4OJuX1TQg"
   },
   "outputs": [],
   "source": [
    "import numpy as np\n",
    "\n",
    "vector = np.array(grey_array)\n"
   ]
  },
  {
   "cell_type": "markdown",
   "metadata": {
    "id": "uh_p2COI2d6v"
   },
   "source": [
    "Aquí reducimos las dimensiones a 2, ya que con las 3 dimensiones (largo de la foto, ancho de la foto, color RGB) no podemos usar el algoritmo."
   ]
  },
  {
   "cell_type": "markdown",
   "metadata": {
    "id": "1a5MLxV_8cz2"
   },
   "source": [
    "### MiniBatch"
   ]
  },
  {
   "cell_type": "code",
   "execution_count": 101,
   "metadata": {
    "id": "c7RJ8J2f2HVA"
   },
   "outputs": [],
   "source": [
    "vector = vector.reshape(len(vector), -1)"
   ]
  },
  {
   "cell_type": "markdown",
   "metadata": {
    "id": "B7cv5m7K2if_"
   },
   "source": [
    "Nuestra intención era utilizar el algoritmo KMeans, pero eso conllevaría mucho consumo de memoria (que no tenemos), por lo que utilizaremos MiniBatchKmeans, el cual crea los centroides a partir de un número que se le da al invocarlo, mejorando el rendimiento."
   ]
  },
  {
   "cell_type": "code",
   "execution_count": 102,
   "metadata": {
    "colab": {
     "base_uri": "https://localhost:8080/"
    },
    "id": "LCgdLwBw3gth",
    "outputId": "b4fb2dc3-21dc-47b5-8ea9-625c3c37f789"
   },
   "outputs": [
    {
     "name": "stderr",
     "output_type": "stream",
     "text": [
      "C:\\Users\\User\\anaconda3\\lib\\site-packages\\sklearn\\cluster\\_kmeans.py:1043: UserWarning: MiniBatchKMeans is known to have a memory leak on Windows with MKL, when there are less chunks than available threads. You can prevent it by setting batch_size >= 2048 or by setting the environment variable OMP_NUM_THREADS=1\n",
      "  warnings.warn(\n"
     ]
    },
    {
     "data": {
      "text/plain": [
       "MiniBatchKMeans(batch_size=256, n_clusters=5, random_state=0)"
      ]
     },
     "execution_count": 102,
     "metadata": {},
     "output_type": "execute_result"
    }
   ],
   "source": [
    "from sklearn.cluster import MiniBatchKMeans\n",
    "kmeans = MiniBatchKMeans(n_clusters = 5, random_state=0, batch_size = 256)\n",
    "kmeans.fit(vector)"
   ]
  },
  {
   "cell_type": "markdown",
   "metadata": {
    "id": "qMBevLnJ2oQw"
   },
   "source": [
    "Ahora, MiniBatchKMeans ha generado un centroide para cada cluster. Veamos qué centroides ha creado."
   ]
  },
  {
   "cell_type": "code",
   "execution_count": 24,
   "metadata": {
    "colab": {
     "base_uri": "https://localhost:8080/"
    },
    "id": "G9S79xRJ82L3",
    "outputId": "8a480979-660d-4ee1-9e9e-854c03b9990b"
   },
   "outputs": [
    {
     "data": {
      "text/plain": [
       "array([[ 9.0893053e-02,  9.7137250e-02, -3.4607086e-02, ...,\n",
       "         1.9008437e-02,  2.3635264e-02,  2.6847359e-02],\n",
       "       [-9.8871235e-03,  8.6096938e-05, -3.3918188e-03, ...,\n",
       "        -8.9013996e-03, -9.0613896e-03, -9.8615084e-03],\n",
       "       [ 7.8430176e-03,  3.9216876e-03, -3.9215624e-02, ...,\n",
       "        -1.0931373e-02,  5.6546926e-04,  7.8431368e-03],\n",
       "       [ 1.7674273e-07, -1.1628433e-02, -7.7524073e-03, ...,\n",
       "        -3.8758502e-03,  7.7520539e-03, -7.7520539e-03],\n",
       "       [ 3.1859551e-03, -4.5060171e-03, -8.1226532e-04, ...,\n",
       "        -4.2293925e-02, -7.7861607e-02, -7.8505255e-02]], dtype=float32)"
      ]
     },
     "execution_count": 24,
     "metadata": {},
     "output_type": "execute_result"
    }
   ],
   "source": [
    "kmeans.cluster_centers_"
   ]
  },
  {
   "cell_type": "markdown",
   "metadata": {
    "id": "WEEpTtfN2zk-"
   },
   "source": [
    "# 7. Primer intento con filtro de grises"
   ]
  },
  {
   "cell_type": "markdown",
   "metadata": {
    "id": "Yy-5OdULEGWv"
   },
   "source": [
    "Repetimos todo el proceso realizado para el conjunto de entrenamiento, pero ahora con el conjunto de test."
   ]
  },
  {
   "cell_type": "markdown",
   "metadata": {
    "id": "qtO4aKutEWEW"
   },
   "source": [
    "Cargamos las imágenes del test."
   ]
  },
  {
   "cell_type": "code",
   "execution_count": 104,
   "metadata": {
    "id": "fj52nRBsZUeI"
   },
   "outputs": [],
   "source": [
    "test_entries = os.listdir('test/')\n",
    "\n",
    "test_dataset = []\n",
    "for entry in test_entries:\n",
    "    image = Image.open(f'test/{entry}')\n",
    "    test_dataset.append(np.asarray(image))\n",
    "    \n",
    "test_dataset = np.array(test_dataset)"
   ]
  },
  {
   "cell_type": "markdown",
   "metadata": {
    "id": "CUgtnpbNEm33"
   },
   "source": [
    "Confirmamos que se han cargado todas."
   ]
  },
  {
   "cell_type": "code",
   "execution_count": 26,
   "metadata": {
    "colab": {
     "base_uri": "https://localhost:8080/"
    },
    "id": "ktWhgQ1OZUeI",
    "outputId": "f9ed51bf-7ea8-4c5b-b31d-fe74b75c4821"
   },
   "outputs": [
    {
     "data": {
      "text/plain": [
       "265"
      ]
     },
     "execution_count": 26,
     "metadata": {},
     "output_type": "execute_result"
    }
   ],
   "source": [
    "len(test_dataset)"
   ]
  },
  {
   "cell_type": "markdown",
   "metadata": {
    "id": "73cVDzSWExvW"
   },
   "source": [
    "Comprobamos de nuevo si todas las imágenes tienen las mismas dimensiones."
   ]
  },
  {
   "cell_type": "code",
   "execution_count": 105,
   "metadata": {
    "id": "rlDo6AiHE3g4"
   },
   "outputs": [
    {
     "name": "stdout",
     "output_type": "stream",
     "text": [
      "Todas las imágenes del dataset tienen las mismas dimensiones.\n"
     ]
    }
   ],
   "source": [
    "dimensiones(test_dataset)"
   ]
  },
  {
   "cell_type": "markdown",
   "metadata": {
    "id": "T3d2A7N_Er5e"
   },
   "source": [
    "Añadimos la máscara al conjunto de test."
   ]
  },
  {
   "cell_type": "code",
   "execution_count": 106,
   "metadata": {
    "id": "1vucwebSZUeJ"
   },
   "outputs": [],
   "source": [
    "test_array = mascara(test_dataset)"
   ]
  },
  {
   "cell_type": "markdown",
   "metadata": {
    "id": "1iEUkx_5FJ3G"
   },
   "source": [
    "Y normalizamos los valores."
   ]
  },
  {
   "cell_type": "code",
   "execution_count": 107,
   "metadata": {
    "id": "3wzoYudYZUeJ"
   },
   "outputs": [],
   "source": [
    "test_array = normalizar(test_array)"
   ]
  },
  {
   "cell_type": "markdown",
   "metadata": {
    "id": "tfV7EPcGFPUm"
   },
   "source": [
    "Convertimos las imágenes a color en escala de grises, para que el clustering sean más efectivo."
   ]
  },
  {
   "cell_type": "code",
   "execution_count": 108,
   "metadata": {
    "id": "O5wmqBy9ZUeJ"
   },
   "outputs": [],
   "source": [
    "test_array = gray_filter(test_array)"
   ]
  },
  {
   "cell_type": "code",
   "execution_count": 109,
   "metadata": {},
   "outputs": [],
   "source": [
    "test_array = redimensionar(test_array)"
   ]
  },
  {
   "cell_type": "markdown",
   "metadata": {
    "id": "h_ZPDpYrFbzW"
   },
   "source": [
    "De nuevo, necesitamos convertir nuestra lista en un vector y redimensionarlo."
   ]
  },
  {
   "cell_type": "code",
   "execution_count": 110,
   "metadata": {
    "id": "ydqypl2qZUeJ"
   },
   "outputs": [],
   "source": [
    "vectorTest = np.array(test_array)"
   ]
  },
  {
   "cell_type": "code",
   "execution_count": 111,
   "metadata": {
    "id": "qu6Do0ayZUeK"
   },
   "outputs": [],
   "source": [
    "vectorTest = vectorTest.reshape(len(vectorTest), -1)"
   ]
  },
  {
   "cell_type": "markdown",
   "metadata": {
    "id": "ZhbDzRKlFyLm"
   },
   "source": [
    "Y, por último, hacemos la predicción con KMeans."
   ]
  },
  {
   "cell_type": "code",
   "execution_count": 112,
   "metadata": {
    "id": "3vKITY7MFxj3"
   },
   "outputs": [
    {
     "name": "stderr",
     "output_type": "stream",
     "text": [
      "C:\\Users\\User\\anaconda3\\lib\\site-packages\\sklearn\\cluster\\_kmeans.py:1043: UserWarning: MiniBatchKMeans is known to have a memory leak on Windows with MKL, when there are less chunks than available threads. You can prevent it by setting batch_size >= 2048 or by setting the environment variable OMP_NUM_THREADS=1\n",
      "  warnings.warn(\n",
      "C:\\Users\\User\\anaconda3\\lib\\site-packages\\sklearn\\cluster\\_kmeans.py:1043: UserWarning: MiniBatchKMeans is known to have a memory leak on Windows with MKL, when there are less chunks than available threads. You can prevent it by setting batch_size >= 2048 or by setting the environment variable OMP_NUM_THREADS=1\n",
      "  warnings.warn(\n"
     ]
    },
    {
     "data": {
      "text/plain": [
       "array([2, 2, 0, 0, 2, 2, 4, 4, 2, 2, 0, 3, 2, 2, 3, 4, 2, 2, 0, 0, 1, 2,\n",
       "       0, 1, 2, 2, 0, 2, 3, 3, 0, 0, 0, 0, 3, 2, 2, 1, 2, 2, 2, 4, 0, 0,\n",
       "       3, 0, 2, 4, 0, 0, 2, 3, 0, 2, 2, 3, 0, 2, 0, 4, 2, 3, 3, 0, 0, 3,\n",
       "       3, 2, 2, 0, 0, 1, 3, 0, 3, 2, 2, 2, 3, 2, 0, 0, 2, 0, 0, 1, 2, 3,\n",
       "       0, 0, 4, 0, 2, 4, 0, 3, 3, 0, 2, 2, 0, 2, 0, 0, 0, 0, 2, 4, 0, 2,\n",
       "       0, 4, 0, 4, 2, 0, 2, 0, 0, 0, 0, 3, 0, 3, 1, 4, 2, 0, 2, 2, 0, 1,\n",
       "       2, 2, 4, 0, 2, 0, 2, 2, 0, 3, 0, 4, 0, 2, 0, 2, 0, 2, 4, 3, 2, 2,\n",
       "       0, 0, 0, 0, 0, 3, 2, 3, 2, 1, 2, 3, 2, 3, 0, 4, 2, 0, 3, 2, 0, 2,\n",
       "       0, 2, 4, 2, 2, 2, 2, 0, 1, 2, 3, 0, 2, 4, 1, 2, 0, 0, 2, 4, 3, 0,\n",
       "       2, 2, 1, 4, 0, 2, 3, 3, 1, 0, 4, 0, 2, 3, 2, 2, 2, 4, 2, 0, 2, 2,\n",
       "       0, 3, 0, 0, 0, 0, 2, 4, 4, 2, 2, 0, 2, 3, 0, 2, 2, 1, 3, 3, 2, 0,\n",
       "       0, 2, 4, 3, 2, 2, 2, 2, 4, 2, 2, 2, 2, 0, 2, 2, 2, 0, 0, 3, 0, 3,\n",
       "       0])"
      ]
     },
     "execution_count": 112,
     "metadata": {},
     "output_type": "execute_result"
    }
   ],
   "source": [
    "kmeansTest = MiniBatchKMeans(n_clusters = 5, random_state=0, batch_size = 256)\n",
    "kmeansTest.fit(vector)\n",
    "predict = kmeansTest.fit_predict(vectorTest)"
   ]
  },
  {
   "cell_type": "markdown",
   "metadata": {},
   "source": [
    "Creamos una función para obtener los ids de las imágenes sin la extensión de archivo"
   ]
  },
  {
   "cell_type": "code",
   "execution_count": 118,
   "metadata": {
    "id": "aPlKIVDDZUeK"
   },
   "outputs": [],
   "source": [
    "def clean_paths(entries):\n",
    "    clean_entries = []\n",
    "    for i in range(len(entries)):\n",
    "        clean_entries.append(entries[i][:-4])\n",
    "    return clean_entries"
   ]
  },
  {
   "cell_type": "markdown",
   "metadata": {},
   "source": [
    "Ejecutamos la función:"
   ]
  },
  {
   "cell_type": "code",
   "execution_count": 119,
   "metadata": {},
   "outputs": [],
   "source": [
    "test_entries = clean_paths(test_entries)"
   ]
  },
  {
   "cell_type": "markdown",
   "metadata": {},
   "source": [
    "Creamos la primera submission:"
   ]
  },
  {
   "cell_type": "code",
   "execution_count": 115,
   "metadata": {
    "id": "4RxkXLG_ZUeK"
   },
   "outputs": [],
   "source": [
    "import pandas as pd\n",
    "\n",
    "d = {'id': clean_entries, 'suit': predict}\n",
    "submit = pd.DataFrame(data=d)\n",
    "submit.to_csv(\"Prac3_first_approach.csv\", index=False)"
   ]
  },
  {
   "cell_type": "markdown",
   "metadata": {
    "id": "WEEpTtfN2zk-"
   },
   "source": [
    "# 8. Segundo intento con filtro de grises + prewitt"
   ]
  },
  {
   "cell_type": "markdown",
   "metadata": {
    "id": "Yy-5OdULEGWv"
   },
   "source": [
    "Repetimos todo el proceso realizado añadiendo el filtro prewitt:"
   ]
  },
  {
   "cell_type": "markdown",
   "metadata": {
    "id": "qtO4aKutEWEW"
   },
   "source": [
    "Cargamos las imágenes del test."
   ]
  },
  {
   "cell_type": "code",
   "execution_count": 120,
   "metadata": {
    "id": "fj52nRBsZUeI"
   },
   "outputs": [],
   "source": [
    "test_entries = os.listdir('test/')\n",
    "\n",
    "test_dataset = []\n",
    "for entry in test_entries:\n",
    "    image = Image.open(f'test/{entry}')\n",
    "    test_dataset.append(np.asarray(image))\n",
    "    \n",
    "test_dataset = np.array(test_dataset)"
   ]
  },
  {
   "cell_type": "markdown",
   "metadata": {
    "id": "CUgtnpbNEm33"
   },
   "source": [
    "Confirmamos que se han cargado todas."
   ]
  },
  {
   "cell_type": "code",
   "execution_count": 121,
   "metadata": {
    "colab": {
     "base_uri": "https://localhost:8080/"
    },
    "id": "ktWhgQ1OZUeI",
    "outputId": "f9ed51bf-7ea8-4c5b-b31d-fe74b75c4821"
   },
   "outputs": [
    {
     "data": {
      "text/plain": [
       "265"
      ]
     },
     "execution_count": 121,
     "metadata": {},
     "output_type": "execute_result"
    }
   ],
   "source": [
    "len(test_dataset)"
   ]
  },
  {
   "cell_type": "markdown",
   "metadata": {
    "id": "73cVDzSWExvW"
   },
   "source": [
    "Comprobamos de nuevo si todas las imágenes tienen las mismas dimensiones."
   ]
  },
  {
   "cell_type": "code",
   "execution_count": 122,
   "metadata": {
    "id": "rlDo6AiHE3g4"
   },
   "outputs": [
    {
     "name": "stdout",
     "output_type": "stream",
     "text": [
      "Todas las imágenes del dataset tienen las mismas dimensiones.\n"
     ]
    }
   ],
   "source": [
    "dimensiones(test_dataset)"
   ]
  },
  {
   "cell_type": "markdown",
   "metadata": {
    "id": "T3d2A7N_Er5e"
   },
   "source": [
    "Añadimos la máscara al conjunto de test."
   ]
  },
  {
   "cell_type": "code",
   "execution_count": 123,
   "metadata": {
    "id": "1vucwebSZUeJ"
   },
   "outputs": [],
   "source": [
    "test_array = mascara(test_dataset)"
   ]
  },
  {
   "cell_type": "markdown",
   "metadata": {
    "id": "1iEUkx_5FJ3G"
   },
   "source": [
    "Y normalizamos los valores."
   ]
  },
  {
   "cell_type": "code",
   "execution_count": 124,
   "metadata": {
    "id": "3wzoYudYZUeJ"
   },
   "outputs": [],
   "source": [
    "test_array = normalizar(test_array)"
   ]
  },
  {
   "cell_type": "markdown",
   "metadata": {
    "id": "tfV7EPcGFPUm"
   },
   "source": [
    "Convertimos las imágenes a color en escala de grises y el filtro de prewitt, para que el clustering sean más efectivo."
   ]
  },
  {
   "cell_type": "code",
   "execution_count": 125,
   "metadata": {
    "id": "O5wmqBy9ZUeJ"
   },
   "outputs": [],
   "source": [
    "test_array = gray_filter(test_array)\n",
    "test_array = prewitt_filter(test_array)"
   ]
  },
  {
   "cell_type": "code",
   "execution_count": 129,
   "metadata": {},
   "outputs": [],
   "source": [
    "test_array = redimensionar(test_array)"
   ]
  },
  {
   "cell_type": "markdown",
   "metadata": {
    "id": "h_ZPDpYrFbzW"
   },
   "source": [
    "De nuevo, necesitamos convertir nuestra lista en un vector y redimensionarlo."
   ]
  },
  {
   "cell_type": "code",
   "execution_count": 130,
   "metadata": {
    "id": "ydqypl2qZUeJ"
   },
   "outputs": [],
   "source": [
    "vectorTest = np.array(test_array)"
   ]
  },
  {
   "cell_type": "code",
   "execution_count": 131,
   "metadata": {
    "id": "qu6Do0ayZUeK"
   },
   "outputs": [],
   "source": [
    "vectorTest = vectorTest.reshape(len(vectorTest), -1)"
   ]
  },
  {
   "cell_type": "markdown",
   "metadata": {
    "id": "ZhbDzRKlFyLm"
   },
   "source": [
    "Y, por último, hacemos la predicción con KMeans."
   ]
  },
  {
   "cell_type": "code",
   "execution_count": 132,
   "metadata": {
    "id": "3vKITY7MFxj3",
    "scrolled": true
   },
   "outputs": [
    {
     "name": "stderr",
     "output_type": "stream",
     "text": [
      "C:\\Users\\User\\anaconda3\\lib\\site-packages\\sklearn\\cluster\\_kmeans.py:1043: UserWarning: MiniBatchKMeans is known to have a memory leak on Windows with MKL, when there are less chunks than available threads. You can prevent it by setting batch_size >= 2048 or by setting the environment variable OMP_NUM_THREADS=1\n",
      "  warnings.warn(\n",
      "C:\\Users\\User\\anaconda3\\lib\\site-packages\\sklearn\\cluster\\_kmeans.py:1043: UserWarning: MiniBatchKMeans is known to have a memory leak on Windows with MKL, when there are less chunks than available threads. You can prevent it by setting batch_size >= 2048 or by setting the environment variable OMP_NUM_THREADS=1\n",
      "  warnings.warn(\n"
     ]
    }
   ],
   "source": [
    "kmeansTest = MiniBatchKMeans(n_clusters = 5, random_state=0, batch_size = 256)\n",
    "kmeansTest.fit(vector)\n",
    "predict = kmeansTest.fit_predict(vectorTest)"
   ]
  },
  {
   "cell_type": "markdown",
   "metadata": {},
   "source": [
    "Ejecutamos la función para eliminar las extensiones:"
   ]
  },
  {
   "cell_type": "code",
   "execution_count": 134,
   "metadata": {},
   "outputs": [],
   "source": [
    "test_entries = clean_paths(test_entries)"
   ]
  },
  {
   "cell_type": "markdown",
   "metadata": {},
   "source": [
    "Creamos la primera submission:"
   ]
  },
  {
   "cell_type": "code",
   "execution_count": 135,
   "metadata": {
    "id": "4RxkXLG_ZUeK"
   },
   "outputs": [],
   "source": [
    "import pandas as pd\n",
    "\n",
    "d = {'id': clean_entries, 'suit': predict}\n",
    "submit = pd.DataFrame(data=d)\n",
    "submit.to_csv(\"Prac3_gray_and_prewitt.csv\", index=False)"
   ]
  },
  {
   "cell_type": "markdown",
   "metadata": {
    "id": "WEEpTtfN2zk-"
   },
   "source": [
    "# 9. Tercer intento con filtro de grises + hessian"
   ]
  },
  {
   "cell_type": "markdown",
   "metadata": {
    "id": "Yy-5OdULEGWv"
   },
   "source": [
    "Repetimos todo el proceso realizado cambiando el filtro prewitt por hessian:"
   ]
  },
  {
   "cell_type": "markdown",
   "metadata": {
    "id": "qtO4aKutEWEW"
   },
   "source": [
    "Cargamos las imágenes del test."
   ]
  },
  {
   "cell_type": "code",
   "execution_count": 161,
   "metadata": {
    "id": "fj52nRBsZUeI"
   },
   "outputs": [],
   "source": [
    "test_entries = os.listdir('test/')\n",
    "\n",
    "test_dataset = []\n",
    "for entry in test_entries:\n",
    "    image = Image.open(f'test/{entry}')\n",
    "    test_dataset.append(np.asarray(image))\n",
    "    \n",
    "test_dataset = np.array(test_dataset)"
   ]
  },
  {
   "cell_type": "markdown",
   "metadata": {
    "id": "CUgtnpbNEm33"
   },
   "source": [
    "Confirmamos que se han cargado todas."
   ]
  },
  {
   "cell_type": "code",
   "execution_count": 162,
   "metadata": {
    "colab": {
     "base_uri": "https://localhost:8080/"
    },
    "id": "ktWhgQ1OZUeI",
    "outputId": "f9ed51bf-7ea8-4c5b-b31d-fe74b75c4821"
   },
   "outputs": [
    {
     "data": {
      "text/plain": [
       "265"
      ]
     },
     "execution_count": 162,
     "metadata": {},
     "output_type": "execute_result"
    }
   ],
   "source": [
    "len(test_dataset)"
   ]
  },
  {
   "cell_type": "markdown",
   "metadata": {
    "id": "73cVDzSWExvW"
   },
   "source": [
    "Comprobamos de nuevo si todas las imágenes tienen las mismas dimensiones."
   ]
  },
  {
   "cell_type": "code",
   "execution_count": 163,
   "metadata": {
    "id": "rlDo6AiHE3g4"
   },
   "outputs": [
    {
     "name": "stdout",
     "output_type": "stream",
     "text": [
      "Todas las imágenes del dataset tienen las mismas dimensiones.\n"
     ]
    }
   ],
   "source": [
    "dimensiones(test_dataset)"
   ]
  },
  {
   "cell_type": "markdown",
   "metadata": {
    "id": "T3d2A7N_Er5e"
   },
   "source": [
    "Añadimos la máscara al conjunto de test."
   ]
  },
  {
   "cell_type": "code",
   "execution_count": 164,
   "metadata": {
    "id": "1vucwebSZUeJ"
   },
   "outputs": [],
   "source": [
    "test_array = mascara(test_dataset)"
   ]
  },
  {
   "cell_type": "markdown",
   "metadata": {
    "id": "1iEUkx_5FJ3G"
   },
   "source": [
    "Y normalizamos los valores."
   ]
  },
  {
   "cell_type": "code",
   "execution_count": 165,
   "metadata": {
    "id": "3wzoYudYZUeJ"
   },
   "outputs": [],
   "source": [
    "test_array = normalizar(test_array)"
   ]
  },
  {
   "cell_type": "markdown",
   "metadata": {
    "id": "tfV7EPcGFPUm"
   },
   "source": [
    "Convertimos las imágenes a color en escala de grises y el filtro de prewitt, para que el clustering sean más efectivo."
   ]
  },
  {
   "cell_type": "code",
   "execution_count": 166,
   "metadata": {
    "id": "O5wmqBy9ZUeJ"
   },
   "outputs": [],
   "source": [
    "test_array = gray_filter(test_array)\n",
    "test_array = hessian_filter(test_array)"
   ]
  },
  {
   "cell_type": "code",
   "execution_count": 169,
   "metadata": {},
   "outputs": [],
   "source": [
    "test_array = redimensionar(test_array)"
   ]
  },
  {
   "cell_type": "markdown",
   "metadata": {
    "id": "h_ZPDpYrFbzW"
   },
   "source": [
    "De nuevo, necesitamos convertir nuestra lista en un vector y redimensionarlo."
   ]
  },
  {
   "cell_type": "code",
   "execution_count": 170,
   "metadata": {
    "id": "ydqypl2qZUeJ"
   },
   "outputs": [],
   "source": [
    "vectorTest = np.array(test_array)"
   ]
  },
  {
   "cell_type": "code",
   "execution_count": 171,
   "metadata": {
    "id": "qu6Do0ayZUeK"
   },
   "outputs": [],
   "source": [
    "vectorTest = vectorTest.reshape(len(vectorTest), -1)"
   ]
  },
  {
   "cell_type": "markdown",
   "metadata": {
    "id": "ZhbDzRKlFyLm"
   },
   "source": [
    "Y, por último, hacemos la predicción con KMeans."
   ]
  },
  {
   "cell_type": "code",
   "execution_count": 172,
   "metadata": {
    "id": "3vKITY7MFxj3",
    "scrolled": true
   },
   "outputs": [
    {
     "name": "stderr",
     "output_type": "stream",
     "text": [
      "C:\\Users\\User\\anaconda3\\lib\\site-packages\\sklearn\\cluster\\_kmeans.py:1043: UserWarning: MiniBatchKMeans is known to have a memory leak on Windows with MKL, when there are less chunks than available threads. You can prevent it by setting batch_size >= 2048 or by setting the environment variable OMP_NUM_THREADS=1\n",
      "  warnings.warn(\n",
      "C:\\Users\\User\\anaconda3\\lib\\site-packages\\sklearn\\cluster\\_kmeans.py:1043: UserWarning: MiniBatchKMeans is known to have a memory leak on Windows with MKL, when there are less chunks than available threads. You can prevent it by setting batch_size >= 2048 or by setting the environment variable OMP_NUM_THREADS=1\n",
      "  warnings.warn(\n"
     ]
    }
   ],
   "source": [
    "kmeansTest = MiniBatchKMeans(n_clusters = 5, random_state=0, batch_size = 256)\n",
    "kmeansTest.fit(vector)\n",
    "predict = kmeansTest.fit_predict(vectorTest)"
   ]
  },
  {
   "cell_type": "markdown",
   "metadata": {},
   "source": [
    "Ejecutamos la función para eliminar las extensiones:"
   ]
  },
  {
   "cell_type": "code",
   "execution_count": 173,
   "metadata": {},
   "outputs": [],
   "source": [
    "test_entries = clean_paths(test_entries)"
   ]
  },
  {
   "cell_type": "markdown",
   "metadata": {},
   "source": [
    "Creamos la primera submission:"
   ]
  },
  {
   "cell_type": "code",
   "execution_count": 174,
   "metadata": {
    "id": "4RxkXLG_ZUeK"
   },
   "outputs": [],
   "source": [
    "import pandas as pd\n",
    "\n",
    "d = {'id': clean_entries, 'suit': predict}\n",
    "submit = pd.DataFrame(data=d)\n",
    "submit.to_csv(\"Prac3_gray_and_hessian.csv\", index=False)"
   ]
  },
  {
   "cell_type": "markdown",
   "metadata": {
    "id": "WEEpTtfN2zk-"
   },
   "source": [
    "# 10. Cuarto intento con filtro de grises + prewitt + hessian"
   ]
  },
  {
   "cell_type": "markdown",
   "metadata": {
    "id": "Yy-5OdULEGWv"
   },
   "source": [
    "Como ha mejorado la predicción con hessian, vamos a añadirle prewitt antes a ver qué sucede:"
   ]
  },
  {
   "cell_type": "markdown",
   "metadata": {
    "id": "qtO4aKutEWEW"
   },
   "source": [
    "Cargamos las imágenes del test."
   ]
  },
  {
   "cell_type": "code",
   "execution_count": 175,
   "metadata": {
    "id": "fj52nRBsZUeI"
   },
   "outputs": [],
   "source": [
    "test_entries = os.listdir('test/')\n",
    "\n",
    "test_dataset = []\n",
    "for entry in test_entries:\n",
    "    image = Image.open(f'test/{entry}')\n",
    "    test_dataset.append(np.asarray(image))\n",
    "    \n",
    "test_dataset = np.array(test_dataset)"
   ]
  },
  {
   "cell_type": "markdown",
   "metadata": {
    "id": "CUgtnpbNEm33"
   },
   "source": [
    "Confirmamos que se han cargado todas."
   ]
  },
  {
   "cell_type": "code",
   "execution_count": 176,
   "metadata": {
    "colab": {
     "base_uri": "https://localhost:8080/"
    },
    "id": "ktWhgQ1OZUeI",
    "outputId": "f9ed51bf-7ea8-4c5b-b31d-fe74b75c4821"
   },
   "outputs": [
    {
     "data": {
      "text/plain": [
       "265"
      ]
     },
     "execution_count": 176,
     "metadata": {},
     "output_type": "execute_result"
    }
   ],
   "source": [
    "len(test_dataset)"
   ]
  },
  {
   "cell_type": "markdown",
   "metadata": {
    "id": "73cVDzSWExvW"
   },
   "source": [
    "Comprobamos de nuevo si todas las imágenes tienen las mismas dimensiones."
   ]
  },
  {
   "cell_type": "code",
   "execution_count": 177,
   "metadata": {
    "id": "rlDo6AiHE3g4"
   },
   "outputs": [
    {
     "name": "stdout",
     "output_type": "stream",
     "text": [
      "Todas las imágenes del dataset tienen las mismas dimensiones.\n"
     ]
    }
   ],
   "source": [
    "dimensiones(test_dataset)"
   ]
  },
  {
   "cell_type": "markdown",
   "metadata": {
    "id": "T3d2A7N_Er5e"
   },
   "source": [
    "Añadimos la máscara al conjunto de test."
   ]
  },
  {
   "cell_type": "code",
   "execution_count": 178,
   "metadata": {
    "id": "1vucwebSZUeJ"
   },
   "outputs": [],
   "source": [
    "test_array = mascara(test_dataset)"
   ]
  },
  {
   "cell_type": "markdown",
   "metadata": {
    "id": "1iEUkx_5FJ3G"
   },
   "source": [
    "Y normalizamos los valores."
   ]
  },
  {
   "cell_type": "code",
   "execution_count": 179,
   "metadata": {
    "id": "3wzoYudYZUeJ"
   },
   "outputs": [],
   "source": [
    "test_array = normalizar(test_array)"
   ]
  },
  {
   "cell_type": "markdown",
   "metadata": {
    "id": "tfV7EPcGFPUm"
   },
   "source": [
    "Convertimos las imágenes a color en escala de grises y el filtro de prewitt, para que el clustering sean más efectivo."
   ]
  },
  {
   "cell_type": "code",
   "execution_count": 180,
   "metadata": {
    "id": "O5wmqBy9ZUeJ"
   },
   "outputs": [],
   "source": [
    "test_array = gray_filter(test_array)\n",
    "test_array = prewitt_filter(test_array)\n",
    "test_array = hessian_filter(test_array)"
   ]
  },
  {
   "cell_type": "code",
   "execution_count": 181,
   "metadata": {},
   "outputs": [],
   "source": [
    "test_array = redimensionar(test_array)"
   ]
  },
  {
   "cell_type": "markdown",
   "metadata": {
    "id": "h_ZPDpYrFbzW"
   },
   "source": [
    "De nuevo, necesitamos convertir nuestra lista en un vector y redimensionarlo."
   ]
  },
  {
   "cell_type": "code",
   "execution_count": 182,
   "metadata": {
    "id": "ydqypl2qZUeJ"
   },
   "outputs": [],
   "source": [
    "vectorTest = np.array(test_array)"
   ]
  },
  {
   "cell_type": "code",
   "execution_count": 183,
   "metadata": {
    "id": "qu6Do0ayZUeK"
   },
   "outputs": [],
   "source": [
    "vectorTest = vectorTest.reshape(len(vectorTest), -1)"
   ]
  },
  {
   "cell_type": "markdown",
   "metadata": {
    "id": "ZhbDzRKlFyLm"
   },
   "source": [
    "Y, por último, hacemos la predicción con KMeans."
   ]
  },
  {
   "cell_type": "code",
   "execution_count": 184,
   "metadata": {
    "id": "3vKITY7MFxj3",
    "scrolled": true
   },
   "outputs": [
    {
     "name": "stderr",
     "output_type": "stream",
     "text": [
      "C:\\Users\\User\\anaconda3\\lib\\site-packages\\sklearn\\cluster\\_kmeans.py:1043: UserWarning: MiniBatchKMeans is known to have a memory leak on Windows with MKL, when there are less chunks than available threads. You can prevent it by setting batch_size >= 2048 or by setting the environment variable OMP_NUM_THREADS=1\n",
      "  warnings.warn(\n",
      "C:\\Users\\User\\anaconda3\\lib\\site-packages\\sklearn\\cluster\\_kmeans.py:1043: UserWarning: MiniBatchKMeans is known to have a memory leak on Windows with MKL, when there are less chunks than available threads. You can prevent it by setting batch_size >= 2048 or by setting the environment variable OMP_NUM_THREADS=1\n",
      "  warnings.warn(\n"
     ]
    }
   ],
   "source": [
    "kmeansTest = MiniBatchKMeans(n_clusters = 5, random_state=0, batch_size = 256)\n",
    "kmeansTest.fit(vector)\n",
    "predict = kmeansTest.fit_predict(vectorTest)"
   ]
  },
  {
   "cell_type": "markdown",
   "metadata": {},
   "source": [
    "Ejecutamos la función para eliminar las extensiones:"
   ]
  },
  {
   "cell_type": "code",
   "execution_count": 185,
   "metadata": {},
   "outputs": [],
   "source": [
    "test_entries = clean_paths(test_entries)"
   ]
  },
  {
   "cell_type": "markdown",
   "metadata": {},
   "source": [
    "Creamos la primera submission:"
   ]
  },
  {
   "cell_type": "code",
   "execution_count": 186,
   "metadata": {
    "id": "4RxkXLG_ZUeK"
   },
   "outputs": [],
   "source": [
    "import pandas as pd\n",
    "\n",
    "d = {'id': clean_entries, 'suit': predict}\n",
    "submit = pd.DataFrame(data=d)\n",
    "submit.to_csv(\"Prac3_gray_prewitt_and_hessian.csv\", index=False)"
   ]
  },
  {
   "cell_type": "markdown",
   "metadata": {
    "id": "WEEpTtfN2zk-"
   },
   "source": [
    "# 11. Quinto intento con filtro de grises + median"
   ]
  },
  {
   "cell_type": "markdown",
   "metadata": {
    "id": "Yy-5OdULEGWv"
   },
   "source": [
    "Como ha mejorado la mezcla entre prewitt y hessian no ha dado ningún buen resultado, decidimos probar ahora con gris y median:"
   ]
  },
  {
   "cell_type": "markdown",
   "metadata": {
    "id": "qtO4aKutEWEW"
   },
   "source": [
    "Cargamos las imágenes del test."
   ]
  },
  {
   "cell_type": "code",
   "execution_count": 187,
   "metadata": {
    "id": "fj52nRBsZUeI"
   },
   "outputs": [],
   "source": [
    "test_entries = os.listdir('test/')\n",
    "\n",
    "test_dataset = []\n",
    "for entry in test_entries:\n",
    "    image = Image.open(f'test/{entry}')\n",
    "    test_dataset.append(np.asarray(image))\n",
    "    \n",
    "test_dataset = np.array(test_dataset)"
   ]
  },
  {
   "cell_type": "markdown",
   "metadata": {
    "id": "CUgtnpbNEm33"
   },
   "source": [
    "Confirmamos que se han cargado todas."
   ]
  },
  {
   "cell_type": "code",
   "execution_count": 188,
   "metadata": {
    "colab": {
     "base_uri": "https://localhost:8080/"
    },
    "id": "ktWhgQ1OZUeI",
    "outputId": "f9ed51bf-7ea8-4c5b-b31d-fe74b75c4821"
   },
   "outputs": [
    {
     "data": {
      "text/plain": [
       "265"
      ]
     },
     "execution_count": 188,
     "metadata": {},
     "output_type": "execute_result"
    }
   ],
   "source": [
    "len(test_dataset)"
   ]
  },
  {
   "cell_type": "markdown",
   "metadata": {
    "id": "73cVDzSWExvW"
   },
   "source": [
    "Comprobamos de nuevo si todas las imágenes tienen las mismas dimensiones."
   ]
  },
  {
   "cell_type": "code",
   "execution_count": 189,
   "metadata": {
    "id": "rlDo6AiHE3g4"
   },
   "outputs": [
    {
     "name": "stdout",
     "output_type": "stream",
     "text": [
      "Todas las imágenes del dataset tienen las mismas dimensiones.\n"
     ]
    }
   ],
   "source": [
    "dimensiones(test_dataset)"
   ]
  },
  {
   "cell_type": "markdown",
   "metadata": {
    "id": "T3d2A7N_Er5e"
   },
   "source": [
    "Añadimos la máscara al conjunto de test."
   ]
  },
  {
   "cell_type": "code",
   "execution_count": 190,
   "metadata": {
    "id": "1vucwebSZUeJ"
   },
   "outputs": [],
   "source": [
    "test_array = mascara(test_dataset)"
   ]
  },
  {
   "cell_type": "markdown",
   "metadata": {
    "id": "1iEUkx_5FJ3G"
   },
   "source": [
    "Y normalizamos los valores."
   ]
  },
  {
   "cell_type": "code",
   "execution_count": 191,
   "metadata": {
    "id": "3wzoYudYZUeJ"
   },
   "outputs": [],
   "source": [
    "test_array = normalizar(test_array)"
   ]
  },
  {
   "cell_type": "markdown",
   "metadata": {
    "id": "tfV7EPcGFPUm"
   },
   "source": [
    "Convertimos las imágenes a color en escala de grises y el filtro de prewitt, para que el clustering sean más efectivo."
   ]
  },
  {
   "cell_type": "code",
   "execution_count": 192,
   "metadata": {
    "id": "O5wmqBy9ZUeJ"
   },
   "outputs": [],
   "source": [
    "test_array = gray_filter(test_array)\n",
    "test_array = median_filter(test_array)"
   ]
  },
  {
   "cell_type": "code",
   "execution_count": 193,
   "metadata": {},
   "outputs": [],
   "source": [
    "test_array = redimensionar(test_array)"
   ]
  },
  {
   "cell_type": "markdown",
   "metadata": {
    "id": "h_ZPDpYrFbzW"
   },
   "source": [
    "De nuevo, necesitamos convertir nuestra lista en un vector y redimensionarlo."
   ]
  },
  {
   "cell_type": "code",
   "execution_count": 194,
   "metadata": {
    "id": "ydqypl2qZUeJ"
   },
   "outputs": [],
   "source": [
    "vectorTest = np.array(test_array)"
   ]
  },
  {
   "cell_type": "code",
   "execution_count": 195,
   "metadata": {
    "id": "qu6Do0ayZUeK"
   },
   "outputs": [],
   "source": [
    "vectorTest = vectorTest.reshape(len(vectorTest), -1)"
   ]
  },
  {
   "cell_type": "markdown",
   "metadata": {
    "id": "ZhbDzRKlFyLm"
   },
   "source": [
    "Y, por último, hacemos la predicción con KMeans."
   ]
  },
  {
   "cell_type": "code",
   "execution_count": 196,
   "metadata": {
    "id": "3vKITY7MFxj3",
    "scrolled": true
   },
   "outputs": [
    {
     "name": "stderr",
     "output_type": "stream",
     "text": [
      "C:\\Users\\User\\anaconda3\\lib\\site-packages\\sklearn\\cluster\\_kmeans.py:1043: UserWarning: MiniBatchKMeans is known to have a memory leak on Windows with MKL, when there are less chunks than available threads. You can prevent it by setting batch_size >= 2048 or by setting the environment variable OMP_NUM_THREADS=1\n",
      "  warnings.warn(\n",
      "C:\\Users\\User\\anaconda3\\lib\\site-packages\\sklearn\\cluster\\_kmeans.py:1043: UserWarning: MiniBatchKMeans is known to have a memory leak on Windows with MKL, when there are less chunks than available threads. You can prevent it by setting batch_size >= 2048 or by setting the environment variable OMP_NUM_THREADS=1\n",
      "  warnings.warn(\n"
     ]
    }
   ],
   "source": [
    "kmeansTest = MiniBatchKMeans(n_clusters = 5, random_state=0, batch_size = 256)\n",
    "kmeansTest.fit(vector)\n",
    "predict = kmeansTest.fit_predict(vectorTest)"
   ]
  },
  {
   "cell_type": "markdown",
   "metadata": {},
   "source": [
    "Ejecutamos la función para eliminar las extensiones:"
   ]
  },
  {
   "cell_type": "code",
   "execution_count": 197,
   "metadata": {},
   "outputs": [],
   "source": [
    "test_entries = clean_paths(test_entries)"
   ]
  },
  {
   "cell_type": "markdown",
   "metadata": {},
   "source": [
    "Creamos la primera submission:"
   ]
  },
  {
   "cell_type": "code",
   "execution_count": 198,
   "metadata": {
    "id": "4RxkXLG_ZUeK"
   },
   "outputs": [],
   "source": [
    "import pandas as pd\n",
    "\n",
    "d = {'id': clean_entries, 'suit': predict}\n",
    "submit = pd.DataFrame(data=d)\n",
    "submit.to_csv(\"Prac3_gray_and_median.csv\", index=False)"
   ]
  },
  {
   "cell_type": "markdown",
   "metadata": {
    "id": "WEEpTtfN2zk-"
   },
   "source": [
    "# 12. Sexto intento con filtro de grises + laplace"
   ]
  },
  {
   "cell_type": "markdown",
   "metadata": {
    "id": "Yy-5OdULEGWv"
   },
   "source": [
    "Como ha mejorado la predicción con hessian, vamos a añadirle prewitt antes a ver qué sucede:"
   ]
  },
  {
   "cell_type": "markdown",
   "metadata": {
    "id": "qtO4aKutEWEW"
   },
   "source": [
    "Cargamos las imágenes del test."
   ]
  },
  {
   "cell_type": "code",
   "execution_count": 199,
   "metadata": {
    "id": "fj52nRBsZUeI"
   },
   "outputs": [],
   "source": [
    "test_entries = os.listdir('test/')\n",
    "\n",
    "test_dataset = []\n",
    "for entry in test_entries:\n",
    "    image = Image.open(f'test/{entry}')\n",
    "    test_dataset.append(np.asarray(image))\n",
    "    \n",
    "test_dataset = np.array(test_dataset)"
   ]
  },
  {
   "cell_type": "markdown",
   "metadata": {
    "id": "CUgtnpbNEm33"
   },
   "source": [
    "Confirmamos que se han cargado todas."
   ]
  },
  {
   "cell_type": "code",
   "execution_count": 200,
   "metadata": {
    "colab": {
     "base_uri": "https://localhost:8080/"
    },
    "id": "ktWhgQ1OZUeI",
    "outputId": "f9ed51bf-7ea8-4c5b-b31d-fe74b75c4821"
   },
   "outputs": [
    {
     "data": {
      "text/plain": [
       "265"
      ]
     },
     "execution_count": 200,
     "metadata": {},
     "output_type": "execute_result"
    }
   ],
   "source": [
    "len(test_dataset)"
   ]
  },
  {
   "cell_type": "markdown",
   "metadata": {
    "id": "73cVDzSWExvW"
   },
   "source": [
    "Comprobamos de nuevo si todas las imágenes tienen las mismas dimensiones."
   ]
  },
  {
   "cell_type": "code",
   "execution_count": 201,
   "metadata": {
    "id": "rlDo6AiHE3g4"
   },
   "outputs": [
    {
     "name": "stdout",
     "output_type": "stream",
     "text": [
      "Todas las imágenes del dataset tienen las mismas dimensiones.\n"
     ]
    }
   ],
   "source": [
    "dimensiones(test_dataset)"
   ]
  },
  {
   "cell_type": "markdown",
   "metadata": {
    "id": "T3d2A7N_Er5e"
   },
   "source": [
    "Añadimos la máscara al conjunto de test."
   ]
  },
  {
   "cell_type": "code",
   "execution_count": 202,
   "metadata": {
    "id": "1vucwebSZUeJ"
   },
   "outputs": [],
   "source": [
    "test_array = mascara(test_dataset)"
   ]
  },
  {
   "cell_type": "markdown",
   "metadata": {
    "id": "1iEUkx_5FJ3G"
   },
   "source": [
    "Y normalizamos los valores."
   ]
  },
  {
   "cell_type": "code",
   "execution_count": 203,
   "metadata": {
    "id": "3wzoYudYZUeJ"
   },
   "outputs": [],
   "source": [
    "test_array = normalizar(test_array)"
   ]
  },
  {
   "cell_type": "markdown",
   "metadata": {
    "id": "tfV7EPcGFPUm"
   },
   "source": [
    "Convertimos las imágenes a color en escala de grises y el filtro de prewitt, para que el clustering sean más efectivo."
   ]
  },
  {
   "cell_type": "code",
   "execution_count": 204,
   "metadata": {
    "id": "O5wmqBy9ZUeJ"
   },
   "outputs": [],
   "source": [
    "test_array = gray_filter(test_array)\n",
    "test_array = laplace_filter(test_array)"
   ]
  },
  {
   "cell_type": "code",
   "execution_count": 205,
   "metadata": {},
   "outputs": [],
   "source": [
    "test_array = redimensionar(test_array)"
   ]
  },
  {
   "cell_type": "markdown",
   "metadata": {
    "id": "h_ZPDpYrFbzW"
   },
   "source": [
    "De nuevo, necesitamos convertir nuestra lista en un vector y redimensionarlo."
   ]
  },
  {
   "cell_type": "code",
   "execution_count": 206,
   "metadata": {
    "id": "ydqypl2qZUeJ"
   },
   "outputs": [],
   "source": [
    "vectorTest = np.array(test_array)"
   ]
  },
  {
   "cell_type": "code",
   "execution_count": 207,
   "metadata": {
    "id": "qu6Do0ayZUeK"
   },
   "outputs": [],
   "source": [
    "vectorTest = vectorTest.reshape(len(vectorTest), -1)"
   ]
  },
  {
   "cell_type": "markdown",
   "metadata": {
    "id": "ZhbDzRKlFyLm"
   },
   "source": [
    "Y, por último, hacemos la predicción con KMeans."
   ]
  },
  {
   "cell_type": "code",
   "execution_count": 208,
   "metadata": {
    "id": "3vKITY7MFxj3",
    "scrolled": true
   },
   "outputs": [
    {
     "name": "stderr",
     "output_type": "stream",
     "text": [
      "C:\\Users\\User\\anaconda3\\lib\\site-packages\\sklearn\\cluster\\_kmeans.py:1043: UserWarning: MiniBatchKMeans is known to have a memory leak on Windows with MKL, when there are less chunks than available threads. You can prevent it by setting batch_size >= 2048 or by setting the environment variable OMP_NUM_THREADS=1\n",
      "  warnings.warn(\n",
      "C:\\Users\\User\\anaconda3\\lib\\site-packages\\sklearn\\cluster\\_kmeans.py:1043: UserWarning: MiniBatchKMeans is known to have a memory leak on Windows with MKL, when there are less chunks than available threads. You can prevent it by setting batch_size >= 2048 or by setting the environment variable OMP_NUM_THREADS=1\n",
      "  warnings.warn(\n"
     ]
    }
   ],
   "source": [
    "kmeansTest = MiniBatchKMeans(n_clusters = 5, random_state=0, batch_size = 256)\n",
    "kmeansTest.fit(vector)\n",
    "predict = kmeansTest.fit_predict(vectorTest)"
   ]
  },
  {
   "cell_type": "markdown",
   "metadata": {},
   "source": [
    "Ejecutamos la función para eliminar las extensiones:"
   ]
  },
  {
   "cell_type": "code",
   "execution_count": 209,
   "metadata": {},
   "outputs": [],
   "source": [
    "test_entries = clean_paths(test_entries)"
   ]
  },
  {
   "cell_type": "markdown",
   "metadata": {},
   "source": [
    "Creamos la primera submission:"
   ]
  },
  {
   "cell_type": "code",
   "execution_count": 210,
   "metadata": {
    "id": "4RxkXLG_ZUeK"
   },
   "outputs": [],
   "source": [
    "import pandas as pd\n",
    "\n",
    "d = {'id': clean_entries, 'suit': predict}\n",
    "submit = pd.DataFrame(data=d)\n",
    "submit.to_csv(\"Prac3_gray_and_laplace.csv\", index=False)"
   ]
  },
  {
   "cell_type": "markdown",
   "metadata": {
    "id": "WEEpTtfN2zk-"
   },
   "source": [
    "# 13. Clustering Jerárquico Aglomerativo con filtro de grises + prewitt"
   ]
  },
  {
   "cell_type": "markdown",
   "metadata": {
    "id": "Yy-5OdULEGWv"
   },
   "source": [
    "Ahora cambiamos nuestro modelo de entrenamiento a uno de clustering jerárquico aglomerativo."
   ]
  },
  {
   "cell_type": "markdown",
   "metadata": {
    "id": "qtO4aKutEWEW"
   },
   "source": [
    "Cargamos las imágenes del test."
   ]
  },
  {
   "cell_type": "code",
   "execution_count": 151,
   "metadata": {
    "id": "fj52nRBsZUeI"
   },
   "outputs": [],
   "source": [
    "test_entries = os.listdir('test/')\n",
    "\n",
    "test_dataset = []\n",
    "for entry in test_entries:\n",
    "    image = Image.open(f'test/{entry}')\n",
    "    test_dataset.append(np.asarray(image))\n",
    "    \n",
    "test_dataset = np.array(test_dataset)"
   ]
  },
  {
   "cell_type": "markdown",
   "metadata": {
    "id": "CUgtnpbNEm33"
   },
   "source": [
    "Confirmamos que se han cargado todas."
   ]
  },
  {
   "cell_type": "code",
   "execution_count": 121,
   "metadata": {
    "colab": {
     "base_uri": "https://localhost:8080/"
    },
    "id": "ktWhgQ1OZUeI",
    "outputId": "f9ed51bf-7ea8-4c5b-b31d-fe74b75c4821"
   },
   "outputs": [
    {
     "data": {
      "text/plain": [
       "265"
      ]
     },
     "execution_count": 121,
     "metadata": {},
     "output_type": "execute_result"
    }
   ],
   "source": [
    "len(test_dataset)"
   ]
  },
  {
   "cell_type": "markdown",
   "metadata": {
    "id": "73cVDzSWExvW"
   },
   "source": [
    "Comprobamos de nuevo si todas las imágenes tienen las mismas dimensiones."
   ]
  },
  {
   "cell_type": "code",
   "execution_count": 152,
   "metadata": {
    "id": "rlDo6AiHE3g4"
   },
   "outputs": [
    {
     "name": "stdout",
     "output_type": "stream",
     "text": [
      "Todas las imágenes del dataset tienen las mismas dimensiones.\n"
     ]
    }
   ],
   "source": [
    "dimensiones(test_dataset)"
   ]
  },
  {
   "cell_type": "markdown",
   "metadata": {
    "id": "T3d2A7N_Er5e"
   },
   "source": [
    "Añadimos la máscara al conjunto de test."
   ]
  },
  {
   "cell_type": "code",
   "execution_count": 153,
   "metadata": {
    "id": "1vucwebSZUeJ"
   },
   "outputs": [],
   "source": [
    "test_array = mascara(test_dataset)"
   ]
  },
  {
   "cell_type": "markdown",
   "metadata": {
    "id": "1iEUkx_5FJ3G"
   },
   "source": [
    "Y normalizamos los valores."
   ]
  },
  {
   "cell_type": "code",
   "execution_count": 154,
   "metadata": {
    "id": "3wzoYudYZUeJ"
   },
   "outputs": [],
   "source": [
    "test_array = normalizar(test_array)"
   ]
  },
  {
   "cell_type": "markdown",
   "metadata": {
    "id": "tfV7EPcGFPUm"
   },
   "source": [
    "Convertimos las imágenes a color en escala de grises y el filtro de prewitt, para que el clustering sean más efectivo."
   ]
  },
  {
   "cell_type": "code",
   "execution_count": 155,
   "metadata": {
    "id": "O5wmqBy9ZUeJ"
   },
   "outputs": [],
   "source": [
    "test_array = gray_filter(test_array)\n",
    "test_array = prewitt_filter(test_array)"
   ]
  },
  {
   "cell_type": "code",
   "execution_count": 156,
   "metadata": {},
   "outputs": [],
   "source": [
    "test_array = redimensionar(test_array)"
   ]
  },
  {
   "cell_type": "markdown",
   "metadata": {
    "id": "h_ZPDpYrFbzW"
   },
   "source": [
    "De nuevo, necesitamos convertir nuestra lista en un vector y redimensionarlo."
   ]
  },
  {
   "cell_type": "code",
   "execution_count": 157,
   "metadata": {
    "id": "ydqypl2qZUeJ"
   },
   "outputs": [],
   "source": [
    "vectorTest = np.array(test_array)"
   ]
  },
  {
   "cell_type": "code",
   "execution_count": 158,
   "metadata": {
    "id": "qu6Do0ayZUeK"
   },
   "outputs": [],
   "source": [
    "vectorTest = vectorTest.reshape(len(vectorTest), -1)"
   ]
  },
  {
   "cell_type": "markdown",
   "metadata": {
    "id": "ZhbDzRKlFyLm"
   },
   "source": [
    "Y, por último, hacemos la predicción con KMeans."
   ]
  },
  {
   "cell_type": "code",
   "execution_count": null,
   "metadata": {
    "id": "3vKITY7MFxj3",
    "scrolled": true
   },
   "outputs": [],
   "source": [
    "from sklearn.cluster import AgglomerativeClustering\n",
    "\n",
    "agglomerative = AgglomerativeClustering(n_clusters=5, affinity='euclidean', linkage='ward')\n",
    "agglomerative.fit(vector)\n",
    "predict = agglomerative.fit_predict(vectorTest)"
   ]
  },
  {
   "cell_type": "markdown",
   "metadata": {},
   "source": [
    "Ejecutamos la función para eliminar las extensiones:"
   ]
  },
  {
   "cell_type": "code",
   "execution_count": null,
   "metadata": {},
   "outputs": [],
   "source": [
    "test_entries = clean_paths(test_entries)"
   ]
  },
  {
   "cell_type": "markdown",
   "metadata": {},
   "source": [
    "Creamos la primera submission:"
   ]
  },
  {
   "cell_type": "code",
   "execution_count": null,
   "metadata": {
    "id": "4RxkXLG_ZUeK"
   },
   "outputs": [],
   "source": [
    "import pandas as pd\n",
    "\n",
    "d = {'id': clean_entries, 'suit': predict}\n",
    "submit = pd.DataFrame(data=d)\n",
    "submit.to_csv(\"Prac3_agglomerative_grey_and_prewitt.csv\", index=False)"
   ]
  },
  {
   "cell_type": "markdown",
   "metadata": {},
   "source": [
    "# 14. Conclusiones"
   ]
  },
  {
   "cell_type": "markdown",
   "metadata": {},
   "source": [
    "Entre las distintas posibilidades de clustering, es mejor usar K-Means, usa menos recursos tanto computacionales como temporales. Puesto que en el caso de AgglomerativeClustering tarda demasiado para unos resultados que no acaban de tener la precisión necesaria.\n",
    "Por otro lado, entre los filtros usados, los mejores son hessian y prewitt por ese orden. Mientras que median y laplace no mejoran la precisión de estos anteriores. Por otro lado, hemos experimentado un gran decremento en la precisión si mezclamos 2 filtros como hessian y prewitt, sin contar con el filtro de grises presente en todas las predicciones."
   ]
  },
  {
   "cell_type": "code",
   "execution_count": null,
   "metadata": {},
   "outputs": [],
   "source": [
    "io.imshow(gray_array[6])\n",
    "io.imshow(hessian_array[6])\n",
    "io.imshow(prewitt_array[6])\n",
    "io.imshow(median_array[6])\n",
    "io.imshow(laplace_array[6])\n",
    "io.imshow(hessian_filter(list(prewitt_array[6])[0])"
   ]
  }
 ],
 "metadata": {
  "colab": {
   "collapsed_sections": [
    "GxrexT3uIa5s",
    "UP_2Ln5cRQMm",
    "Ehg9LATMRH5W",
    "xp83xxNrRYw1",
    "BThJ5PuFRizX",
    "TXTH6gb9RnTt",
    "MxiPl79iRrIv",
    "gGWSQwUgRz8k",
    "LPWC98HFR9R1",
    "9UG3UlgsSCuV",
    "5yN749vdSHAj",
    "C8z93Cg_SKvp",
    "STZ3mPN_1aFu",
    "cZexh7Ya2rQx"
   ],
   "provenance": []
  },
  "kernelspec": {
   "display_name": "Python 3 (ipykernel)",
   "language": "python",
   "name": "python3"
  },
  "language_info": {
   "codemirror_mode": {
    "name": "ipython",
    "version": 3
   },
   "file_extension": ".py",
   "mimetype": "text/x-python",
   "name": "python",
   "nbconvert_exporter": "python",
   "pygments_lexer": "ipython3",
   "version": "3.9.13"
  }
 },
 "nbformat": 4,
 "nbformat_minor": 1
}

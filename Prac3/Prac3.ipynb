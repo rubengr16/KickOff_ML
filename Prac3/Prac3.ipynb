{
  "nbformat": 4,
  "nbformat_minor": 0,
  "metadata": {
    "colab": {
      "provenance": [],
      "authorship_tag": "ABX9TyNDrsxtD2CtSJy2vz5gWGTN"
    },
    "kernelspec": {
      "name": "python3",
      "display_name": "Python 3"
    },
    "language_info": {
      "name": "python"
    }
  },
  "cells": [
    {
      "cell_type": "code",
      "source": [
        "import requests\n",
        "URL = 'https://github.com/rubengr16/MachineLearning/raw/main/Prac3/test.zip'\n",
        "# 2. download the data behind the URL\n",
        "response = requests.get(URL)\n",
        "# 3. Open the response into a new file called instagram.ico\n",
        "open('test.zip', 'wb').write(response.content)"
      ],
      "metadata": {
        "colab": {
          "base_uri": "https://localhost:8080/"
        },
        "id": "JaNOJ9ZKRvGr",
        "outputId": "9b1e6a1b-cce7-42ec-b9e5-5173ffa0fea4"
      },
      "execution_count": null,
      "outputs": [
        {
          "output_type": "execute_result",
          "data": {
            "text/plain": [
              "6203566"
            ]
          },
          "metadata": {},
          "execution_count": 2
        }
      ]
    },
    {
      "cell_type": "code",
      "source": [
        "import zipfile\n",
        "with zipfile.ZipFile('./test.zip', 'r') as zip_ref:\n",
        "    zip_ref.extractall('./test/')"
      ],
      "metadata": {
        "id": "S_gJoqpVYyRd"
      },
      "execution_count": null,
      "outputs": []
    },
    {
      "cell_type": "code",
      "source": [
        "import requests\n",
        "for i in range(1, 16):\n",
        "    number = str(i) if i > 9 else '0' + str(i)\n",
        "    URL = f'https://github.com/rubengr16/MachineLearning/raw/main/Prac3/train.zip.0{number}'\n",
        "    # 2. download the data behind the URL\n",
        "    response = requests.get(URL)\n",
        "    # 3. Open the response into a new file called instagram.ico\n",
        "    open(f'train.zip.0{number}', 'wb').write(response.content)"
      ],
      "metadata": {
        "id": "1p2i6wKPZYKd"
      },
      "execution_count": 9,
      "outputs": []
    },
    {
      "cell_type": "code",
      "source": [
        "import zipfile\n",
        "import os\n",
        "\n",
        "for i in range(1, 16):\n",
        "    number = str(i) if i > 9 else '0' + str(i)\n",
        "    with open(\"train.zip\", \"ab\") as f:\n",
        "        with open(f'train.zip.0{number}', \"rb\") as z:\n",
        "            f.write(z.read())\n",
        "\n",
        "with zipfile.ZipFile('train.zip', \"r\") as zipObj:\n",
        "    zipObj.extractall('./')"
      ],
      "metadata": {
        "id": "-sOJdXthHP2L"
      },
      "execution_count": 16,
      "outputs": []
    },
    {
      "cell_type": "code",
      "execution_count": null,
      "metadata": {
        "id": "99NdxMAcROfR"
      },
      "outputs": [],
      "source": [
        "# import the modules\n",
        "import os\n",
        "from os import listdir\n",
        " \n",
        "# get the path/directory\n",
        "folder_dir = \"C:/Users/RIJUSHREE/Desktop/Gfg images\"\n",
        "for images in os.listdir(folder_dir):\n",
        " \n",
        "    # check if the image ends with png\n",
        "    if (images.endswith(\".png\")):\n",
        "        print(images)"
      ]
    }
  ]
}